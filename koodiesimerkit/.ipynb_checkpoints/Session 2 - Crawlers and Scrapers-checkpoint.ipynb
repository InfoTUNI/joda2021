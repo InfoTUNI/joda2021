{
 "cells": [
  {
   "cell_type": "markdown",
   "metadata": {},
   "source": [
    "Crawlers and Scrapers\n",
    "The goal of this session is to build and run our own scraper using the scrapy python library. Our scraper will crawl through different customer-review pages and get all of the available ratings and reviews.\n",
    "\n",
    "First we will install scrapy using pip command in terminal/cmd:\n",
    "\n",
    "pip install scrapy\n",
    "Next, we'll use scrapy to automatically generate a skeleton of the code needed for our scraper. On terminal/cmd type the following:\n",
    "\n",
    "scrapy genspider amazon_scraper amazon.com\n",
    "A new python-script, amazon_scraper.py file will be created. The final content of our scraper will be as follows:\n"
   ]
  },
  {
   "cell_type": "code",
   "execution_count": null,
   "metadata": {},
   "outputs": [],
   "source": [
    "\n",
    "# -*- coding: utf-8 -*-\n",
    "import scrapy\n",
    "\n",
    "class AmazonScraperSpider(scrapy.Spider):\n",
    "    name = 'amazon_scraper'\n",
    "    allowed_domains = ['amazon.com']\n",
    "    # assing a product-review-page url below\n",
    "    start_urls = ['']\n",
    "    \n",
    "    def parse(self, response):\n",
    "        all_text = response.css('.a-size-base.review-text')\n",
    "        for i in range(len(all_text)):\n",
    "            all_text[i] = \" \".join(all_text[i].css('::text').extract())\n",
    "\n",
    "        all_ratings = response.css('[data-hook=\"review-star-rating\"] > span::text').extract()\n",
    "\n",
    "        for i in range(len(all_text)):\n",
    "            review = {\n",
    "                'text' : all_text[i],\n",
    "                'rating': all_ratings[i]\n",
    "            }\n",
    "            yield review\n",
    "\n",
    "        next_page_url = response.css('.a-last > a::attr(href)').extract_first()\n",
    "        yield response.follow(next_page_url, self.parse)"
   ]
  },
  {
   "cell_type": "markdown",
   "metadata": {},
   "source": [
    "\n",
    "We can call the script from terminal/cmd as follows:\n"
   ]
  },
  {
   "cell_type": "code",
   "execution_count": null,
   "metadata": {},
   "outputs": [],
   "source": [
    "scrapy runspider amazon_scraper.py -o out.json"
   ]
  }
 ],
 "metadata": {
  "kernelspec": {
   "display_name": "Python 3",
   "language": "python",
   "name": "python3"
  },
  "language_info": {
   "codemirror_mode": {
    "name": "ipython",
    "version": 3
   },
   "file_extension": ".py",
   "mimetype": "text/x-python",
   "name": "python",
   "nbconvert_exporter": "python",
   "pygments_lexer": "ipython3",
   "version": "3.6.10"
  }
 },
 "nbformat": 4,
 "nbformat_minor": 4
}
