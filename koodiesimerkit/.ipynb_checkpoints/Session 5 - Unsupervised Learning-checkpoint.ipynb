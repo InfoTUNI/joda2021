{
 "cells": [
  {
   "cell_type": "markdown",
   "metadata": {},
   "source": [
    "# Unsupervised Learning: Principal Component Analysis"
   ]
  },
  {
   "cell_type": "markdown",
   "metadata": {},
   "source": [
    "Real world data can have very large dimensions i.e attributes. Visualizing and analysing 4 dimensional data can be challenging and difficult. This difficulty increases exponentially with the number of dimensions. \n",
    "\n",
    "This well known issue is identified as *the curse of dimensionality*.\n",
    "\n",
    "PCA stands for principal component analysis. It is a linear dimensionality reduction technique which projects data into a lower dimensional space. "
   ]
  },
  {
   "cell_type": "code",
   "execution_count": 81,
   "metadata": {},
   "outputs": [],
   "source": [
    "import numpy as np\n",
    "import matplotlib.pyplot as plt\n",
    "import pandas as pd\n",
    "from sklearn import preprocessing\n",
    "from sklearn.preprocessing import Imputer\n",
    "from sklearn.decomposition import PCA\n",
    "from sklearn.linear_model import LogisticRegression\n",
    "from sklearn.model_selection import train_test_split\n",
    "from sklearn.metrics import accuracy_score\n",
    "from sklearn.exceptions import DataConversionWarning\n",
    "import warnings\n",
    "warnings.simplefilter(action='ignore', category=DataConversionWarning)"
   ]
  },
  {
   "cell_type": "code",
   "execution_count": 82,
   "metadata": {},
   "outputs": [
    {
     "name": "stdout",
     "output_type": "stream",
     "text": [
      "<class 'pandas.core.frame.DataFrame'>\n",
      "RangeIndex: 100514 entries, 0 to 100513\n",
      "Data columns (total 12 columns):\n",
      "Current Loan Amount             100000 non-null float64\n",
      "Credit Score                    80846 non-null float64\n",
      "Annual Income                   80846 non-null float64\n",
      "Years of Credit History         100000 non-null float64\n",
      "Months since last delinquent    46859 non-null float64\n",
      "Number of Open Accounts         100000 non-null float64\n",
      "Number of Credit Problems       100000 non-null float64\n",
      "Current Credit Balance          100000 non-null float64\n",
      "Maximum Open Credit             99998 non-null float64\n",
      "Bankruptcies                    99796 non-null float64\n",
      "Tax Liens                       99990 non-null float64\n",
      "Loan Status                     100000 non-null object\n",
      "dtypes: float64(11), object(1)\n",
      "memory usage: 9.2+ MB\n"
     ]
    }
   ],
   "source": [
    "# Load the data\n",
    "df = pd.read_csv(\"credit_train.csv\")\n",
    "\n",
    "df = df[['Current Loan Amount','Credit Score','Annual Income','Years of Credit History',\n",
    "            'Months since last delinquent','Number of Open Accounts','Number of Credit Problems',\n",
    "           'Current Credit Balance','Maximum Open Credit','Bankruptcies','Tax Liens', 'Loan Status']]\n",
    "df.info()"
   ]
  },
  {
   "cell_type": "code",
   "execution_count": 88,
   "metadata": {},
   "outputs": [
    {
     "data": {
      "text/html": [
       "<div>\n",
       "<style scoped>\n",
       "    .dataframe tbody tr th:only-of-type {\n",
       "        vertical-align: middle;\n",
       "    }\n",
       "\n",
       "    .dataframe tbody tr th {\n",
       "        vertical-align: top;\n",
       "    }\n",
       "\n",
       "    .dataframe thead th {\n",
       "        text-align: right;\n",
       "    }\n",
       "</style>\n",
       "<table border=\"1\" class=\"dataframe\">\n",
       "  <thead>\n",
       "    <tr style=\"text-align: right;\">\n",
       "      <th></th>\n",
       "      <th>Current Loan Amount</th>\n",
       "      <th>Credit Score</th>\n",
       "      <th>Annual Income</th>\n",
       "      <th>Years of Credit History</th>\n",
       "      <th>Months since last delinquent</th>\n",
       "      <th>Number of Open Accounts</th>\n",
       "      <th>Number of Credit Problems</th>\n",
       "      <th>Current Credit Balance</th>\n",
       "      <th>Maximum Open Credit</th>\n",
       "      <th>Bankruptcies</th>\n",
       "      <th>Tax Liens</th>\n",
       "    </tr>\n",
       "  </thead>\n",
       "  <tbody>\n",
       "    <tr>\n",
       "      <th>0</th>\n",
       "      <td>-0.356000</td>\n",
       "      <td>-0.276927</td>\n",
       "      <td>-2.167902e-01</td>\n",
       "      <td>-0.109538</td>\n",
       "      <td>-0.028035</td>\n",
       "      <td>-1.023690</td>\n",
       "      <td>1.722987</td>\n",
       "      <td>-0.176642</td>\n",
       "      <td>-0.041035</td>\n",
       "      <td>2.513503</td>\n",
       "      <td>-0.113531</td>\n",
       "    </tr>\n",
       "    <tr>\n",
       "      <th>1</th>\n",
       "      <td>-0.361761</td>\n",
       "      <td>-0.000278</td>\n",
       "      <td>-4.655080e-07</td>\n",
       "      <td>0.459993</td>\n",
       "      <td>-1.753905</td>\n",
       "      <td>4.764912</td>\n",
       "      <td>-0.348683</td>\n",
       "      <td>-0.171894</td>\n",
       "      <td>0.010733</td>\n",
       "      <td>-0.334659</td>\n",
       "      <td>-0.113531</td>\n",
       "    </tr>\n",
       "    <tr>\n",
       "      <th>2</th>\n",
       "      <td>2.776244</td>\n",
       "      <td>-0.252805</td>\n",
       "      <td>8.779410e-01</td>\n",
       "      <td>-0.536686</td>\n",
       "      <td>-0.359933</td>\n",
       "      <td>1.371593</td>\n",
       "      <td>1.722987</td>\n",
       "      <td>0.008928</td>\n",
       "      <td>-0.001277</td>\n",
       "      <td>-0.334659</td>\n",
       "      <td>-0.113531</td>\n",
       "    </tr>\n",
       "    <tr>\n",
       "      <th>3</th>\n",
       "      <td>-0.359076</td>\n",
       "      <td>-0.267881</td>\n",
       "      <td>-5.876086e-01</td>\n",
       "      <td>-0.821452</td>\n",
       "      <td>-0.028035</td>\n",
       "      <td>-0.424869</td>\n",
       "      <td>-0.348683</td>\n",
       "      <td>-0.101838</td>\n",
       "      <td>-0.044588</td>\n",
       "      <td>-0.334659</td>\n",
       "      <td>-0.113531</td>\n",
       "    </tr>\n",
       "    <tr>\n",
       "      <th>4</th>\n",
       "      <td>-0.364470</td>\n",
       "      <td>-0.000278</td>\n",
       "      <td>-4.655080e-07</td>\n",
       "      <td>-1.675749</td>\n",
       "      <td>-0.028035</td>\n",
       "      <td>0.772772</td>\n",
       "      <td>-0.348683</td>\n",
       "      <td>-0.109465</td>\n",
       "      <td>-0.039791</td>\n",
       "      <td>-0.334659</td>\n",
       "      <td>-0.113531</td>\n",
       "    </tr>\n",
       "  </tbody>\n",
       "</table>\n",
       "</div>"
      ],
      "text/plain": [
       "   Current Loan Amount  Credit Score  Annual Income  Years of Credit History  \\\n",
       "0            -0.356000     -0.276927  -2.167902e-01                -0.109538   \n",
       "1            -0.361761     -0.000278  -4.655080e-07                 0.459993   \n",
       "2             2.776244     -0.252805   8.779410e-01                -0.536686   \n",
       "3            -0.359076     -0.267881  -5.876086e-01                -0.821452   \n",
       "4            -0.364470     -0.000278  -4.655080e-07                -1.675749   \n",
       "\n",
       "   Months since last delinquent  Number of Open Accounts  \\\n",
       "0                     -0.028035                -1.023690   \n",
       "1                     -1.753905                 4.764912   \n",
       "2                     -0.359933                 1.371593   \n",
       "3                     -0.028035                -0.424869   \n",
       "4                     -0.028035                 0.772772   \n",
       "\n",
       "   Number of Credit Problems  Current Credit Balance  Maximum Open Credit  \\\n",
       "0                   1.722987               -0.176642            -0.041035   \n",
       "1                  -0.348683               -0.171894             0.010733   \n",
       "2                   1.722987                0.008928            -0.001277   \n",
       "3                  -0.348683               -0.101838            -0.044588   \n",
       "4                  -0.348683               -0.109465            -0.039791   \n",
       "\n",
       "   Bankruptcies  Tax Liens  \n",
       "0      2.513503  -0.113531  \n",
       "1     -0.334659  -0.113531  \n",
       "2     -0.334659  -0.113531  \n",
       "3     -0.334659  -0.113531  \n",
       "4     -0.334659  -0.113531  "
      ]
     },
     "execution_count": 88,
     "metadata": {},
     "output_type": "execute_result"
    }
   ],
   "source": [
    "def siivoaData(data, slice=1.0):\n",
    "\n",
    "    # Mikä on muuttuja josta olemme kiinnostuneita?\n",
    "    # Haluamme tietysti ymmärtää muuttujaa lainan tilanne \"Loan staus\"\n",
    "    # Dikotominne muuttuja kuvaa sitä maksetaanko laina takaisin vai ei.\n",
    "\n",
    "\n",
    "    #Annetaan keskiarvot puutuville tietopisteille\n",
    "    sarakkeet =['Current Loan Amount','Credit Score','Annual Income','Years of Credit History',\n",
    "            'Months since last delinquent','Number of Open Accounts','Number of Credit Problems',\n",
    "           'Current Credit Balance','Maximum Open Credit','Bankruptcies','Tax Liens']\n",
    "    muuttujanTäyttäjä = Imputer()\n",
    "    data[sarakkeet] = muuttujanTäyttäjä.fit_transform(data[sarakkeet])\n",
    "    data[sarakkeet] = data[sarakkeet].astype(int)\n",
    "\n",
    "    #Poistetaan vielä NaN rivit\n",
    "    data=data.dropna()\n",
    "\n",
    "#     Note:  Select only some of the data for testing purposes!\n",
    "    if slice > 0 and slice < 1:\n",
    "        mid_point = int(len(data)*slice)\n",
    "        data = data.loc[:mid_point]\n",
    "\n",
    "\n",
    "    #Valitaan muuttuja josta olemme kiinnostuneita ja koodataan se\n",
    "    y = data['Loan Status']\n",
    "    new_y = []\n",
    "    for i in y:\n",
    "        if i == 'Fully Paid':\n",
    "            new_y.append(1)\n",
    "        else:\n",
    "            new_y.append(0)\n",
    "    data = data.drop('Loan Status', axis=1)\n",
    "\n",
    "    # Koodataan kategoriset muuttujat\n",
    "    data = pd.get_dummies(data)\n",
    "\n",
    "    # Normalisoidaan data\n",
    "    # Palautamme myös dataMean ja dataDev arvot jos haluamme syöttää koneelle uusia havaintoja\n",
    "    dataMean = np.mean(data, axis=0)\n",
    "    dataDev = np.std(data, axis=0)\n",
    "    norm_x = (data - dataMean) / dataDev\n",
    "\n",
    "    x = data.values #muutetaan numpy array\n",
    "    min_max_scaler = preprocessing.MinMaxScaler()\n",
    "    x_scaled = min_max_scaler.fit_transform(x)\n",
    "    normMinMax = pd.DataFrame(x_scaled)\n",
    "    \n",
    "    \n",
    "\n",
    "    return norm_x, normMinMax, data, new_y, dataMean, dataDev\n",
    "\n",
    "\n",
    "xNorm, xMinMax, xNoNorm, y, xMean, xDev = siivoaData(df)\n",
    "\n",
    "xNorm.head()"
   ]
  },
  {
   "cell_type": "code",
   "execution_count": 84,
   "metadata": {},
   "outputs": [
    {
     "name": "stdout",
     "output_type": "stream",
     "text": [
      "Explained variance of 11 components:\n",
      " [6.17631047e-01 2.20020859e-01 6.77763177e-02 4.47852547e-02\n",
      " 2.57832722e-02 1.90402355e-02 3.53274757e-03 7.33500795e-04\n",
      " 3.35334190e-04 1.86065792e-04 1.75366250e-04]\n"
     ]
    }
   ],
   "source": [
    "# Run PCA with n_components==number of attributes\n",
    "pca = PCA(n_components=11)\n",
    "reducedX = pca.fit_transform(xMinMax)\n",
    "print(\"Explained variance of 11 components:\\n\", pca.explained_variance_ratio_)"
   ]
  },
  {
   "cell_type": "code",
   "execution_count": 85,
   "metadata": {},
   "outputs": [
    {
     "data": {
      "image/png": "[encoded data removed]",
      "text/plain": [
       "<Figure size 1440x720 with 1 Axes>"
      ]
     },
     "metadata": {
      "needs_background": "light"
     },
     "output_type": "display_data"
    }
   ],
   "source": [
    "# Run PCA with 2 components, for 2d visualising.\n",
    "pca = PCA(n_components=2)\n",
    "\n",
    "# Reduce L2-Normalized data\n",
    "reducedX = pca.fit_transform(xNorm)\n",
    "\n",
    "fig, ax = plt.subplots(figsize=(20, 10))\n",
    "\n",
    "colors = ['blue' if l==1 else 'red' for l in y]\n",
    "for dp, c in zip(reducedX[:1000], colors[:1000]):\n",
    "    ax.scatter(dp[0], dp[1], s=10, color=c)\n",
    "plt.show()"
   ]
  },
  {
   "cell_type": "code",
   "execution_count": 86,
   "metadata": {},
   "outputs": [
    {
     "data": {
      "image/png": "[encoded data removed]",
      "text/plain": [
       "<Figure size 1440x720 with 1 Axes>"
      ]
     },
     "metadata": {
      "needs_background": "light"
     },
     "output_type": "display_data"
    }
   ],
   "source": [
    "\n",
    "# Reduce MinMax-Normalized data\n",
    "\n",
    "reducedX = pca.fit_transform(xMinMax)\n",
    "\n",
    "fig, ax = plt.subplots(figsize=(20, 10))\n",
    "\n",
    "colors = ['blue' if l==1 else 'red' for l in y]\n",
    "for dp, c in zip(reducedX[:1000], colors[:1000]):\n",
    "    ax.scatter(dp[0], dp[1], s=10, color=c)\n",
    "plt.show()"
   ]
  },
  {
   "cell_type": "code",
   "execution_count": 90,
   "metadata": {},
   "outputs": [
    {
     "name": "stdout",
     "output_type": "stream",
     "text": [
      "Accuracy with 1 components: 77.5520%\n",
      "Accuracy with 2 components: 77.5520%\n",
      "Accuracy with 3 components: 81.9360%\n",
      "Accuracy with 4 components: 81.9940%\n",
      "Accuracy with 5 components: 82.0200%\n",
      "Accuracy with 6 components: 82.0200%\n",
      "Accuracy with 7 components: 82.0200%\n",
      "Accuracy with 8 components: 82.0180%\n",
      "Accuracy with 9 components: 82.0140%\n",
      "Accuracy with 10 components: 82.0100%\n",
      "Accuracy with 11 components: 82.0100%\n"
     ]
    }
   ],
   "source": [
    "#Perform predictions with reduced dimensionality\n",
    "xNorm, xMinMax, xNoNorm, y, xMean, xDev = siivoaData(df)\n",
    "\n",
    "for n_comp in range(1, 12):\n",
    "    pca = PCA(n_components=n_comp)\n",
    "    reducedX = pca.fit_transform(xNorm)\n",
    "    X_train, X_test, y_train, y_test = train_test_split(reducedX, y, test_size=0.5, random_state=13)\n",
    "\n",
    "    clf = LogisticRegression().fit(X_train, y_train)\n",
    "    score = accuracy_score(y_test, clf.predict(X_test))\n",
    "\n",
    "    print('Accuracy with {} components: {:.4f}%'.format(n_comp, 100*score))"
   ]
  },
  {
   "cell_type": "code",
   "execution_count": null,
   "metadata": {},
   "outputs": [],
   "source": []
  }
 ],
 "metadata": {
  "kernelspec": {
   "display_name": "Python 3",
   "language": "python",
   "name": "python3"
  },
  "language_info": {
   "codemirror_mode": {
    "name": "ipython",
    "version": 3
   },
   "file_extension": ".py",
   "mimetype": "text/x-python",
   "name": "python",
   "nbconvert_exporter": "python",
   "pygments_lexer": "ipython3",
   "version": "3.7.2"
  }
 },
 "nbformat": 4,
 "nbformat_minor": 4
}
