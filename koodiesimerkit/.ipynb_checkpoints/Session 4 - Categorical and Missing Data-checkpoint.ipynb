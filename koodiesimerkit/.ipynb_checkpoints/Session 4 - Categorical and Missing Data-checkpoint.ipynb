{
 "cells": [
  {
   "cell_type": "markdown",
   "metadata": {},
   "source": [
    "# Categorical and Missing Data\n",
    "\n",
    "In this session we will work with *airbnb* data. The goal is to predict the review scores rating. \n",
    "\n",
    "There are many entries (i.e rows) with missing attributes in our dataset. \n",
    "\n",
    "We will come around this issue by employing two approaches:\n",
    "1. *Remove rows with missing values*\n",
    "2. *Single imputation with median*"
   ]
  },
  {
   "cell_type": "code",
   "execution_count": 1,
   "metadata": {},
   "outputs": [],
   "source": [
    "import pandas as pd\n",
    "import numpy as np\n",
    "\n",
    "from sklearn import preprocessing\n",
    "from sklearn import linear_model\n",
    "from sklearn.model_selection import cross_val_predict\n",
    "from sklearn.impute import SimpleImputer\n",
    "\n",
    "import matplotlib.pyplot as plt\n",
    "import os"
   ]
  },
  {
   "cell_type": "code",
   "execution_count": null,
   "metadata": {},
   "outputs": [],
   "source": [
    "# Load data\n",
    "if os.path.exists('data.csv'):\n",
    "    df = pd.read_csv('data.csv')\n",
    "else:\n",
    "    df = pd.read_csv('http://data.insideairbnb.com/spain/comunidad-de-madrid/madrid/2018-01-17/data/listings.csv.gz', \n",
    "                      compression='gzip')\n",
    "    df.to_csv('data.csv')\n",
    "\n",
    "print(df.info())"
   ]
  },
  {
   "cell_type": "code",
   "execution_count": null,
   "metadata": {},
   "outputs": [],
   "source": [
    "# We will focus on three attributes only\n",
    "df = df[['host_response_time','host_response_rate','review_scores_rating']]\n",
    "\n",
    "print(df.head())\n",
    "print(df.host_response_time.unique())"
   ]
  },
  {
   "cell_type": "code",
   "execution_count": null,
   "metadata": {},
   "outputs": [],
   "source": [
    "df.host_response_rate = df.host_response_rate.str.strip('%')\n",
    "df.host_response_rate = pd.to_numeric(df.host_response_rate)\n",
    "\n",
    "print(df.info(), '\\n')\n",
    "print(df.head())"
   ]
  },
  {
   "cell_type": "markdown",
   "metadata": {},
   "source": [
    "### Removing rows with missing values"
   ]
  },
  {
   "cell_type": "code",
   "execution_count": null,
   "metadata": {},
   "outputs": [],
   "source": [
    "# Remove all rows with null values\n",
    "df = df.dropna()"
   ]
  },
  {
   "cell_type": "code",
   "execution_count": null,
   "metadata": {},
   "outputs": [],
   "source": [
    "# Converting host_response_time attributes to categorical values.\n",
    "# Two approaches:\n",
    "\n",
    "# 1 - Encoding label encoder...\n",
    "le = preprocessing.LabelEncoder()\n",
    "\n",
    "cols = ['within an hour', 'within a day', 'a few days or more']\n",
    "\n",
    "arr = le.fit_transform(df.host_response_time)\n",
    "\n",
    "df.host_response_time = arr\n",
    "\n",
    "# 2 - ...OR alternative way \n",
    "df_label = df.apply(preprocessing.LabelEncoder().fit_transform)"
   ]
  },
  {
   "cell_type": "code",
   "execution_count": null,
   "metadata": {},
   "outputs": [],
   "source": [
    "print(arr)"
   ]
  },
  {
   "cell_type": "code",
   "execution_count": null,
   "metadata": {},
   "outputs": [],
   "source": [
    "# Perform Linear Regression\n",
    "lr = linear_model.LinearRegression()\n",
    "\n",
    "# define labels and data (i.e y and X)\n",
    "y = df.review_scores_rating\n",
    "X = df.drop(columns='review_scores_rating')\n",
    "\n",
    "predict = cross_val_predict(lr, X, y, cv=10)\n",
    "\n",
    "fig, ax = plt.subplots(figsize=(20, 10))\n",
    "ax.scatter(y, predict, edgecolors=(0, 0, 0))\n",
    "# ax.plot([y.min(), y.max()], [y.min(), y.max()], 'k--', lw=4)\n",
    "ax.set_xlabel('Measured')\n",
    "ax.set_ylabel('Predicted')\n",
    "plt.show()\n"
   ]
  },
  {
   "cell_type": "code",
   "execution_count": null,
   "metadata": {},
   "outputs": [],
   "source": [
    "print(df.corr())"
   ]
  },
  {
   "cell_type": "markdown",
   "metadata": {},
   "source": [
    "### Single imputation with median."
   ]
  },
  {
   "cell_type": "code",
   "execution_count": null,
   "metadata": {},
   "outputs": [],
   "source": [
    "# re-load the data\n",
    "df = pd.read_csv('data.csv')\n",
    "\n",
    "#select a subset of attributes \n",
    "df = df[['review_scores_accuracy','review_scores_cleanliness',\n",
    "         'review_scores_checkin','review_scores_communication',\n",
    "         'review_scores_location','review_scores_value',\n",
    "         'review_scores_rating']]\n",
    "\n",
    "print(df.isnull().sum())"
   ]
  },
  {
   "cell_type": "code",
   "execution_count": null,
   "metadata": {},
   "outputs": [],
   "source": [
    "# Drop rows where all are nan\n",
    "df.dropna(axis=0, how='all', inplace=True)\n",
    "\n",
    "print(df.isnull().sum())"
   ]
  },
  {
   "cell_type": "code",
   "execution_count": null,
   "metadata": {},
   "outputs": [],
   "source": [
    "# Impute median value for original missing values and generate new dataframe\n",
    "imputer = SimpleImputer(strategy='median')\n",
    "df_imp = pd.DataFrame(imputer.fit_transform(df))\n",
    "\n",
    "df_imp.columns = df.columns\n",
    "df_imp.index = df.index\n",
    "\n",
    "print(df_imp.isnull().sum())\n"
   ]
  },
  {
   "cell_type": "code",
   "execution_count": null,
   "metadata": {},
   "outputs": [],
   "source": [
    "# Run Linear Regression\n",
    "lr = linear_model.LinearRegression()\n",
    "\n",
    "y = df_imp.review_scores_rating\n",
    "X = df_imp.drop(columns='review_scores_rating')\n",
    "\n",
    "predict = cross_val_predict(lr, X, y, cv=10)\n",
    "\n",
    "fig, ax = plt.subplots(figsize=(20, 10))\n",
    "ax.scatter(y, predict, edgecolors=(0, 0, 0))\n",
    "ax.plot([y.min(), y.max()], [y.min(), y.max()], 'k--', lw=4)\n",
    "ax.set_xlabel('Measured')\n",
    "ax.set_ylabel('Predicted')\n",
    "plt.show()\n"
   ]
  },
  {
   "cell_type": "code",
   "execution_count": null,
   "metadata": {},
   "outputs": [],
   "source": [
    "print(df.corr()['review_scores_rating'])"
   ]
  },
  {
   "cell_type": "code",
   "execution_count": null,
   "metadata": {},
   "outputs": [],
   "source": [
    "print('thank you')"
   ]
  }
 ],
 "metadata": {
  "kernelspec": {
   "display_name": "Python 3",
   "language": "python",
   "name": "python3"
  },
  "language_info": {
   "codemirror_mode": {
    "name": "ipython",
    "version": 3
   },
   "file_extension": ".py",
   "mimetype": "text/x-python",
   "name": "python",
   "nbconvert_exporter": "python",
   "pygments_lexer": "ipython3",
   "version": "3.7.2"
  }
 },
 "nbformat": 4,
 "nbformat_minor": 4
}
