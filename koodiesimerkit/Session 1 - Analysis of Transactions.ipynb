{
 "cells": [
  {
   "cell_type": "markdown",
   "metadata": {},
   "source": [
    "<H1> Session 1 - Analysing Transaction Data </H1>\n",
    "\n",
    "In this session we will be analysing transaction data.\n",
    "<br>\n",
    "The data consist of transaction details that were executed within a specific time window."
   ]
  },
  {
   "cell_type": "code",
   "execution_count": null,
   "metadata": {},
   "outputs": [],
   "source": [
    "# Declare the libraries that will be used\n",
    "import pandas as pd\n",
    "# Used to plot the results\n",
    "import matplotlib.pyplot as plt\n",
    "from matplotlib import style\n",
    "style.use('ggplot')"
   ]
  },
  {
   "cell_type": "code",
   "execution_count": null,
   "metadata": {},
   "outputs": [],
   "source": [
    "url = 'http://samplecsvs.s3.amazonaws.com/SalesJan2009.csv'\n",
    "\n",
    "# Use pandas to import data\n",
    "orig_df = pd.read_csv(url)\n",
    "\n",
    "# To keep original dataframe for referencing\n",
    "df = orig_df.copy()\n",
    "print('List of attributes:', df.columns.values.tolist())"
   ]
  },
  {
   "cell_type": "code",
   "execution_count": null,
   "metadata": {},
   "outputs": [],
   "source": [
    "print(df.head())"
   ]
  },
  {
   "cell_type": "code",
   "execution_count": null,
   "metadata": {},
   "outputs": [],
   "source": [
    "print(df.dtypes)"
   ]
  },
  {
   "cell_type": "code",
   "execution_count": null,
   "metadata": {},
   "outputs": [],
   "source": [
    "# Convert object types\n",
    "df['Transaction_date'] = pd.to_datetime(df['Transaction_date'])\n",
    "df['Account_Created'] = pd.to_datetime(df['Account_Created'])\n",
    "df['Last_Login'] = pd.to_datetime(df['Last_Login'])\n",
    "\n",
    "print(df.dtypes)"
   ]
  },
  {
   "cell_type": "code",
   "execution_count": null,
   "metadata": {},
   "outputs": [],
   "source": [
    "# Convert prices to numeric in order to access math functions\n",
    "df['Price'] = df['Price'].str.replace(',','')\n",
    "df['Price'] = pd.to_numeric(df['Price'])\n",
    "print(df.dtypes)"
   ]
  },
  {
   "cell_type": "code",
   "execution_count": null,
   "metadata": {},
   "outputs": [],
   "source": [
    "# Use general apply function\n",
    "caps = lambda x: x.upper()\n",
    "\n",
    "# def caps(x):\n",
    "#     return x.upper()\n",
    "\n",
    "df['Country'] = df['Country'].apply(caps)\n",
    "\n",
    "def test(x):\n",
    "    if x == \"Product1\":\n",
    "        return \"P1\"\n",
    "    else:\n",
    "        return x\n",
    "\n",
    "df['Product'] = df['Product'].apply(test)"
   ]
  },
  {
   "cell_type": "code",
   "execution_count": null,
   "metadata": {},
   "outputs": [],
   "source": [
    "# New column to calculate logins within a week\n",
    "df['Login_week'] = \"\"\n",
    "\n",
    "def lastweek(x):\n",
    "    date = pd.Timestamp(2009, 2, 2)\n",
    "    date_diff= pd.Timedelta(date-x).days\n",
    "    if date_diff < 7:\n",
    "        return \"Last week\"\n",
    "    else:\n",
    "        return \"Not last week\"\n",
    "    \n",
    "df['Login_week'] = df['Last_Login'].apply(lastweek)"
   ]
  },
  {
   "cell_type": "code",
   "execution_count": null,
   "metadata": {},
   "outputs": [],
   "source": [
    "print(df[df['Login_week']=='Last week'])"
   ]
  },
  {
   "cell_type": "code",
   "execution_count": null,
   "metadata": {},
   "outputs": [],
   "source": [
    "# Select all rows with payment types\n",
    "amex = df.loc[:,['Price','Payment_Type']]\n",
    "amex = amex[amex['Payment_Type'] == 'Amex']\n",
    "\n",
    "diners = df.loc[:,['Price','Payment_Type']]\n",
    "diners = diners[diners['Payment_Type'] == 'Diners']\n",
    "\n",
    "mc = df.loc[:,['Price','Payment_Type']]\n",
    "mc = mc[mc['Payment_Type'] == 'Mastercard']\n",
    "\n",
    "visa = df.loc[:,['Price','Payment_Type']]\n",
    "visa = visa[visa['Payment_Type'] == 'Visa']\n",
    "\n",
    "result = [amex, diners, mc, visa]\n",
    "result_concat = pd.concat([amex, diners, mc, visa], keys={'amex': amex,\n",
    "                                                          'diners': diners,\n",
    "                                                          'mc': mc,\n",
    "                                                          'visa': visa})\n",
    "sum_amex = sum(amex['Price'])\n",
    "sum_diners = sum(diners['Price'])\n",
    "sum_mc = sum(mc['Price'])\n",
    "sum_visa = sum(visa['Price'])\n",
    "\n",
    "# Printing all purchases with each payment type\n",
    "print(\"Sum of purchases with Amex is {}\".format(sum_amex))\n",
    "print(\"Sum of purchases with Diners is {}\".format(sum_diners))\n",
    "print(\"Sum of purchases with Mastercard is {}\".format(sum_mc))\n",
    "print(\"Sum of purchases with Visa is {}\".format(sum_visa))"
   ]
  },
  {
   "cell_type": "code",
   "execution_count": null,
   "metadata": {},
   "outputs": [],
   "source": [
    "# Saving new dataframe to csv\n",
    "result_concat.to_csv('result_dataframe.csv', encoding='utf8')"
   ]
  },
  {
   "cell_type": "code",
   "execution_count": null,
   "metadata": {},
   "outputs": [],
   "source": [
    "# Get the total number of transactions for each payment type\n",
    "payment_values = df['Payment_Type'].value_counts().to_frame()\n",
    "print(payment_values)"
   ]
  },
  {
   "cell_type": "code",
   "execution_count": null,
   "metadata": {},
   "outputs": [],
   "source": [
    "# Plotting results\n",
    "\n",
    "# Creating new dataframe to be plotted\n",
    "df_plot = pd.DataFrame([[sum_amex, sum_diners, sum_mc, sum_visa]])\n",
    "df_plot.columns = ['Amex', 'Diners', 'Mastercard', 'Visa']\n",
    "\n",
    "df_plot.plot.bar(figsize=(15,10))\n",
    "\n",
    "plt.legend(loc=2)\n",
    "plt.ylabel('Sum $')\n",
    "plt.show()"
   ]
  },
  {
   "cell_type": "code",
   "execution_count": null,
   "metadata": {},
   "outputs": [],
   "source": []
  }
 ],
 "metadata": {
  "kernelspec": {
   "display_name": "Python 3",
   "language": "python",
   "name": "python3"
  },
  "language_info": {
   "codemirror_mode": {
    "name": "ipython",
    "version": 3
   },
   "file_extension": ".py",
   "mimetype": "text/x-python",
   "name": "python",
   "nbconvert_exporter": "python",
   "pygments_lexer": "ipython3",
   "version": "3.6.10"
  }
 },
 "nbformat": 4,
 "nbformat_minor": 4
}
