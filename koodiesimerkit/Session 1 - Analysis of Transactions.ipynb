{
 "cells": [
  {
   "cell_type": "markdown",
   "metadata": {},
   "source": [
    "<H1> Session 1 - Analysing Transaction Data </H1>\n",
    "\n",
    "In this session we will be analysing transaction data.\n",
    "<br>\n",
    "The data consist of transaction details that were executed within a specific time window."
   ]
  },
  {
   "cell_type": "code",
   "execution_count": 1,
   "metadata": {},
   "outputs": [],
   "source": [
    "# Declare the libraries that will be used\n",
    "import pandas as pd\n",
    "# Used to plot the results\n",
    "import matplotlib.pyplot as plt\n",
    "from matplotlib import style\n",
    "style.use('ggplot')"
   ]
  },
  {
   "cell_type": "code",
   "execution_count": 2,
   "metadata": {},
   "outputs": [
    {
     "name": "stdout",
     "output_type": "stream",
     "text": [
      "List of attributes: ['Transaction_date', 'Product', 'Price', 'Payment_Type', 'Name', 'City', 'State', 'Country', 'Account_Created', 'Last_Login', 'Latitude', 'Longitude']\n"
     ]
    }
   ],
   "source": [
    "url = 'http://samplecsvs.s3.amazonaws.com/SalesJan2009.csv'\n",
    "\n",
    "# Use pandas to import data\n",
    "orig_df = pd.read_csv(url)\n",
    "\n",
    "# To keep original dataframe for referencing\n",
    "df = orig_df.copy()\n",
    "print('List of attributes:', df.columns.values.tolist())"
   ]
  },
  {
   "cell_type": "code",
   "execution_count": 3,
   "metadata": {},
   "outputs": [
    {
     "name": "stdout",
     "output_type": "stream",
     "text": [
      "  Transaction_date   Product Price Payment_Type               Name  \\\n",
      "0      1/2/09 6:17  Product1  1200   Mastercard           carolina   \n",
      "1      1/2/09 4:53  Product1  1200         Visa             Betina   \n",
      "2     1/2/09 13:08  Product1  1200   Mastercard  Federica e Andrea   \n",
      "3     1/3/09 14:44  Product1  1200         Visa              Gouya   \n",
      "4     1/4/09 12:56  Product2  3600         Visa            Gerd W    \n",
      "\n",
      "                           City     State         Country Account_Created  \\\n",
      "0                      Basildon   England  United Kingdom     1/2/09 6:00   \n",
      "1  Parkville                           MO   United States     1/2/09 4:42   \n",
      "2  Astoria                             OR   United States    1/1/09 16:21   \n",
      "3                        Echuca  Victoria       Australia   9/25/05 21:13   \n",
      "4  Cahaba Heights                      AL   United States  11/15/08 15:47   \n",
      "\n",
      "     Last_Login   Latitude   Longitude  \n",
      "0   1/2/09 6:08  51.500000   -1.116667  \n",
      "1   1/2/09 7:49  39.195000  -94.681940  \n",
      "2  1/3/09 12:32  46.188060 -123.830000  \n",
      "3  1/3/09 14:22 -36.133333  144.750000  \n",
      "4  1/4/09 12:45  33.520560  -86.802500  \n"
     ]
    }
   ],
   "source": [
    "print(df.head())"
   ]
  },
  {
   "cell_type": "code",
   "execution_count": 4,
   "metadata": {},
   "outputs": [
    {
     "name": "stdout",
     "output_type": "stream",
     "text": [
      "Transaction_date     object\n",
      "Product              object\n",
      "Price                object\n",
      "Payment_Type         object\n",
      "Name                 object\n",
      "City                 object\n",
      "State                object\n",
      "Country              object\n",
      "Account_Created      object\n",
      "Last_Login           object\n",
      "Latitude            float64\n",
      "Longitude           float64\n",
      "dtype: object\n"
     ]
    }
   ],
   "source": [
    "print(df.dtypes)"
   ]
  },
  {
   "cell_type": "code",
   "execution_count": 5,
   "metadata": {},
   "outputs": [
    {
     "name": "stdout",
     "output_type": "stream",
     "text": [
      "Transaction_date    datetime64[ns]\n",
      "Product                     object\n",
      "Price                       object\n",
      "Payment_Type                object\n",
      "Name                        object\n",
      "City                        object\n",
      "State                       object\n",
      "Country                     object\n",
      "Account_Created     datetime64[ns]\n",
      "Last_Login          datetime64[ns]\n",
      "Latitude                   float64\n",
      "Longitude                  float64\n",
      "dtype: object\n"
     ]
    }
   ],
   "source": [
    "# Convert object types\n",
    "df['Transaction_date'] = pd.to_datetime(df['Transaction_date'])\n",
    "df['Account_Created'] = pd.to_datetime(df['Account_Created'])\n",
    "df['Last_Login'] = pd.to_datetime(df['Last_Login'])\n",
    "\n",
    "print(df.dtypes)"
   ]
  },
  {
   "cell_type": "code",
   "execution_count": 6,
   "metadata": {},
   "outputs": [
    {
     "name": "stdout",
     "output_type": "stream",
     "text": [
      "Transaction_date    datetime64[ns]\n",
      "Product                     object\n",
      "Price                        int64\n",
      "Payment_Type                object\n",
      "Name                        object\n",
      "City                        object\n",
      "State                       object\n",
      "Country                     object\n",
      "Account_Created     datetime64[ns]\n",
      "Last_Login          datetime64[ns]\n",
      "Latitude                   float64\n",
      "Longitude                  float64\n",
      "dtype: object\n"
     ]
    }
   ],
   "source": [
    "# Convert prices to numeric in order to access math functions\n",
    "df['Price'] = df['Price'].str.replace(',','')\n",
    "df['Price'] = pd.to_numeric(df['Price'])\n",
    "print(df.dtypes)"
   ]
  },
  {
   "cell_type": "code",
   "execution_count": 7,
   "metadata": {},
   "outputs": [],
   "source": [
    "# Use general apply function\n",
    "caps = lambda x: x.upper()\n",
    "\n",
    "# def caps(x):\n",
    "#     return x.upper()\n",
    "\n",
    "df['Country'] = df['Country'].apply(caps)\n",
    "\n",
    "def test(x):\n",
    "    if x == \"Product1\":\n",
    "        return \"P1\"\n",
    "    else:\n",
    "        return x\n",
    "\n",
    "df['Product'] = df['Product'].apply(test)"
   ]
  },
  {
   "cell_type": "code",
   "execution_count": 8,
   "metadata": {},
   "outputs": [],
   "source": [
    "# New column to calculate logins within a week\n",
    "df['Login_week'] = \"\"\n",
    "\n",
    "def lastweek(x):\n",
    "    date = pd.Timestamp(2009, 2, 2)\n",
    "    date_diff= pd.Timedelta(date-x).days\n",
    "    if date_diff < 7:\n",
    "        return \"Last week\"\n",
    "    else:\n",
    "        return \"Not last week\"\n",
    "    \n",
    "df['Login_week'] = df['Last_Login'].apply(lastweek)"
   ]
  },
  {
   "cell_type": "code",
   "execution_count": 9,
   "metadata": {},
   "outputs": [
    {
     "name": "stdout",
     "output_type": "stream",
     "text": [
      "       Transaction_date   Product  Price Payment_Type           Name  \\\n",
      "289 2009-01-26 03:43:00        P1   1200   Mastercard          Wendy   \n",
      "290 2009-01-26 03:49:00  Product2   3600   Mastercard           Jane   \n",
      "291 2009-01-11 13:16:00  Product2   3600         Visa         shelby   \n",
      "292 2009-01-22 15:32:00        P1   1200   Mastercard           Tara   \n",
      "293 2009-01-09 14:25:00        P1   1200         Amex          James   \n",
      "294 2009-01-21 11:28:00        P1    800         Amex       Heloise    \n",
      "295 2009-01-01 14:19:00        P1   1200   Mastercard        Gabriel   \n",
      "296 2009-01-26 04:30:00        P1   1200         Visa         Jodie    \n",
      "297 2009-01-07 04:45:00        P1   1200         Amex         Jeremy   \n",
      "298 2009-01-11 12:12:00        P1   1200         Visa          Helga   \n",
      "299 2009-01-26 10:24:00        P1   1200         Visa        Eleanor   \n",
      "300 2009-01-26 08:58:00        P1   1200       Diners           Miss   \n",
      "301 2009-01-07 17:51:00        P1   1200         Visa          Marie   \n",
      "302 2009-01-18 20:16:00        P1   1200   Mastercard           Lisa   \n",
      "303 2009-01-13 09:51:00        P1   1200   Mastercard         Priska   \n",
      "304 2009-01-24 18:43:00        P1   1200         Visa        Katrine   \n",
      "305 2009-01-05 00:46:00        P1   1200         Amex           Lisa   \n",
      "306 2009-01-09 01:12:00        P1   1200         Visa        Sabrina   \n",
      "307 2009-01-26 06:25:00        P1   1200         Visa           prof   \n",
      "308 2009-01-21 16:57:00        P1   1200   Mastercard  KeithMichelle   \n",
      "309 2009-01-05 05:33:00        P1   1200   Mastercard            Kim   \n",
      "310 2009-01-27 05:10:00        P1   1200         Visa         anissa   \n",
      "311 2009-01-07 08:00:00        P1   1200   Mastercard           john   \n",
      "312 2009-01-20 07:08:00  Product2   3600         Visa           Miye   \n",
      "313 2009-01-27 02:26:00        P1   1200       Diners          Heidi   \n",
      "314 2009-01-05 06:14:00        P1   1200   Mastercard              T   \n",
      "315 2009-01-13 08:11:00  Product2   3600         Visa        Daniele   \n",
      "316 2009-01-10 09:18:00        P1   1200       Diners          luisa   \n",
      "317 2009-01-08 18:52:00        P1   1200         Visa         Nadine   \n",
      "318 2009-01-12 10:06:00        P1   1200   Mastercard           Tina   \n",
      "..                  ...       ...    ...          ...            ...   \n",
      "968 2009-01-02 17:24:00  Product2   3600       Diners          clara   \n",
      "969 2009-01-07 18:15:00        P1   1200   Mastercard          Selma   \n",
      "970 2009-01-03 21:19:00        P1   1200         Visa  Doug and Tina   \n",
      "971 2009-01-04 05:13:00        P1   1200         Visa         Lauren   \n",
      "972 2009-01-04 09:28:00        P1   1200         Visa            Jen   \n",
      "973 2009-01-02 04:34:00        P1   1200         Visa         gladys   \n",
      "974 2009-01-22 11:10:00        P1   1200   Mastercard        Gustavo   \n",
      "975 2009-01-07 12:06:00        P1   1200         Visa          Erica   \n",
      "976 2009-01-29 13:25:00        P1   1200       Diners           Hale   \n",
      "977 2009-01-27 02:57:00        P1   1200         Visa       Rosemary   \n",
      "978 2009-01-07 13:19:00        P1   1200         Visa         Darian   \n",
      "979 2009-01-23 10:04:00        P1   1200   Mastercard          Kevin   \n",
      "980 2009-01-19 04:55:00        P1   1200         Visa         Alyssa   \n",
      "981 2009-01-28 22:02:00        P1   1200         Visa           Hale   \n",
      "982 2009-01-04 18:57:00        P1   1200   Mastercard           KELI   \n",
      "983 2009-01-12 20:31:00        P1   1200         Visa           Glen   \n",
      "984 2009-01-24 12:00:00        P1   1200         Visa              T   \n",
      "985 2009-01-28 11:19:00        P1   1200         Visa       christal   \n",
      "986 2009-01-07 17:48:00        P1   1200   Mastercard           Alex   \n",
      "987 2009-01-23 12:42:00  Product2   3600   Mastercard           Anke   \n",
      "988 2009-01-07 19:48:00  Product2   3600   Mastercard         TRICIA   \n",
      "989 2009-01-26 11:19:00        P1   1200   Mastercard          smith   \n",
      "990 2009-01-05 13:23:00        P1   1200         Visa           Macy   \n",
      "991 2009-01-26 13:41:00        P1   1200   Mastercard       Lesleigh   \n",
      "992 2009-01-20 10:42:00  Product2   3600       Diners         esther   \n",
      "993 2009-01-22 14:25:00        P1   1200         Visa     Hans-Joerg   \n",
      "994 2009-01-28 05:36:00  Product2   3600         Visa     Christiane   \n",
      "995 2009-01-01 04:24:00  Product3   7500         Amex         Pamela   \n",
      "996 2009-01-08 11:55:00        P1   1200       Diners          julie   \n",
      "997 2009-01-12 21:30:00        P1   1200         Visa         Julia    \n",
      "\n",
      "                             City                       State         Country  \\\n",
      "289  Lake Mahopac                                          NY   UNITED STATES   \n",
      "290                          Biot  Provence-Alpes-Cote d'Azur          FRANCE   \n",
      "291  Plantation                                            FL   UNITED STATES   \n",
      "292                      Killiney                      Dublin         IRELAND   \n",
      "293                          Guer                    Brittany          FRANCE   \n",
      "294  Arlington                                             VA   UNITED STATES   \n",
      "295                   Three Hills                     Alberta          CANADA   \n",
      "296                   Great Falls                    Virginia   UNITED STATES   \n",
      "297                        London                     England  UNITED KINGDOM   \n",
      "298                      Clontarf                      Dublin         IRELAND   \n",
      "299                     Vancouver            British Columbia          CANADA   \n",
      "300                        London                     England  UNITED KINGDOM   \n",
      "301  Dickerson                                             MD   UNITED STATES   \n",
      "302  Princeton                                             NJ   UNITED STATES   \n",
      "303                       Calgary                     Alberta          CANADA   \n",
      "304  North Tustin                                          CA   UNITED STATES   \n",
      "305                       Gurgaon                     Haryana           INDIA   \n",
      "306                   Rambouillet               Ile-de-France          FRANCE   \n",
      "307  Gladwyne                                              PA   UNITED STATES   \n",
      "308  Houston                                               TX   UNITED STATES   \n",
      "309                        London                     England  UNITED KINGDOM   \n",
      "310                        Slough                     England  UNITED KINGDOM   \n",
      "311              Glan-Munchweiler        Rhineland-Palatinate         GERMANY   \n",
      "312  Downingtown                                           PA   UNITED STATES   \n",
      "313  MT Pleasant                                           TX   UNITED STATES   \n",
      "314                Veigy-Foncenex                 Rhone-Alpes          FRANCE   \n",
      "315  Katy                                                  TX   UNITED STATES   \n",
      "316                         Gorey                                      JERSEY   \n",
      "317  Belgrade                                              MT   UNITED STATES   \n",
      "318                       Calgary                     Alberta          CANADA   \n",
      "..                            ...                         ...             ...   \n",
      "968                         Perth           Western Australia       AUSTRALIA   \n",
      "969  Greenville                                            TX   UNITED STATES   \n",
      "970  Pls Vrds Est                                          CA   UNITED STATES   \n",
      "971                Hradec Kralove                East Bohemia  CZECH REPUBLIC   \n",
      "972                     Maidstone                     England  UNITED KINGDOM   \n",
      "973                  Saint Albans                     England  UNITED KINGDOM   \n",
      "974                     Voluntari                   Bucuresti         ROMANIA   \n",
      "975                         Nadur                                       MALTA   \n",
      "976  Morrison                                              CO   UNITED STATES   \n",
      "977                        Cobham                     England  UNITED KINGDOM   \n",
      "978                         Izmir                       Izmir          TURKEY   \n",
      "979  Hollywood                                             CA   UNITED STATES   \n",
      "980                      Brighton                     England  UNITED KINGDOM   \n",
      "981                        Hawera                    Taranaki     NEW ZEALAND   \n",
      "982                     Worongary                  Queensland       AUSTRALIA   \n",
      "983                     Atlantida                   Guatemala       GUATEMALA   \n",
      "984                   El Escorial                      Madrid           SPAIN   \n",
      "985  Morrison                                              CO   UNITED STATES   \n",
      "986  Augusta                                               GA   UNITED STATES   \n",
      "987                        Avalon             New South Wales       AUSTRALIA   \n",
      "988                        Sydney             New South Wales       AUSTRALIA   \n",
      "989                         Lahti          Etela-Suomen Laani         FINLAND   \n",
      "990                    Inner City                      Vienna         AUSTRIA   \n",
      "991                         Baden                      Aargau     SWITZERLAND   \n",
      "992                  Huddersfield                     England  UNITED KINGDOM   \n",
      "993                       Belfast            Northern Ireland  UNITED KINGDOM   \n",
      "994                   Black River                 Black River       MAURITIUS   \n",
      "995  Skaneateles                                           NY   UNITED STATES   \n",
      "996                     Haverhill                     England  UNITED KINGDOM   \n",
      "997  Madison                                               WI   UNITED STATES   \n",
      "\n",
      "        Account_Created          Last_Login   Latitude   Longitude Login_week  \n",
      "289 2009-01-26 03:10:00 2009-01-26 03:10:00  41.372220  -73.733890  Last week  \n",
      "290 2008-03-01 00:00:00 2009-01-26 03:18:00  43.633333    7.100000  Last week  \n",
      "291 2009-01-11 12:20:00 2009-01-26 03:42:00  26.121940  -80.143610  Last week  \n",
      "292 2007-02-27 11:35:00 2009-01-26 04:32:00  53.252222   -6.112500  Last week  \n",
      "293 2008-04-07 00:00:00 2009-01-26 05:32:00  47.900000   -2.116667  Last week  \n",
      "294 2005-09-25 20:26:00 2009-01-26 06:23:00  38.890280  -77.084440  Last week  \n",
      "295 2008-05-21 11:39:00 2009-01-26 07:17:00  51.700000 -113.266667  Last week  \n",
      "296 2009-01-26 00:00:00 2009-01-26 07:48:00  38.998060  -77.288610  Last week  \n",
      "297 2009-01-07 04:30:00 2009-01-26 08:01:00  51.527210    0.145590  Last week  \n",
      "298 2005-11-30 12:50:00 2009-01-26 10:00:00  53.359167   -6.216111  Last week  \n",
      "299 2008-12-01 18:30:00 2009-01-26 10:12:00  49.250000 -123.133333  Last week  \n",
      "300 2009-01-26 08:46:00 2009-01-26 11:14:00  51.527210    0.145590  Last week  \n",
      "301 2006-01-13 09:38:00 2009-01-26 11:35:00  39.220000  -77.424440  Last week  \n",
      "302 2009-01-18 19:47:00 2009-01-26 13:07:00  40.348610  -74.659440  Last week  \n",
      "303 2009-01-04 23:43:00 2009-01-26 17:24:00  51.083333 -114.083333  Last week  \n",
      "304 2009-01-11 13:33:00 2009-01-26 21:29:00  33.764440 -117.793060  Last week  \n",
      "305 2009-01-02 03:03:00 2009-01-27 00:17:00  28.466667   77.033333  Last week  \n",
      "306 2008-06-18 06:35:00 2009-01-27 02:56:00  48.650000    1.833333  Last week  \n",
      "307 2009-01-19 06:38:00 2009-01-27 03:58:00  40.040560  -75.279440  Last week  \n",
      "308 2009-01-21 16:37:00 2009-01-27 04:43:00  29.763060  -95.363060  Last week  \n",
      "309 2005-12-08 13:22:00 2009-01-27 04:49:00  51.527210    0.145590  Last week  \n",
      "310 2009-01-15 10:07:00 2009-01-27 04:51:00  51.500000   -0.583333  Last week  \n",
      "311 2005-05-26 07:00:00 2009-01-27 06:30:00  49.466667    7.433333  Last week  \n",
      "312 2009-01-19 08:06:00 2009-01-27 06:38:00  40.006390  -75.703610  Last week  \n",
      "313 2009-01-27 02:16:00 2009-01-27 06:41:00  33.156670  -94.968060  Last week  \n",
      "314 2009-01-05 04:52:00 2009-01-27 07:01:00  46.266667    6.250000  Last week  \n",
      "315 2008-05-27 11:01:00 2009-01-27 07:49:00  29.785560  -95.824170  Last week  \n",
      "316 2006-05-09 10:43:00 2009-01-27 07:51:00  49.200000   -2.033333  Last week  \n",
      "317 2009-01-07 15:30:00 2009-01-27 09:40:00  45.776110 -111.176110  Last week  \n",
      "318 2009-01-10 14:15:00 2009-01-27 14:26:00  51.083333 -114.083333  Last week  \n",
      "..                  ...                 ...        ...         ...        ...  \n",
      "968 2009-01-01 21:20:00 2009-02-27 18:43:00 -31.933333  115.833333  Last week  \n",
      "969 2009-01-05 18:16:00 2009-02-27 19:07:00  33.138330  -96.110560  Last week  \n",
      "970 2007-12-24 22:59:00 2009-02-27 21:40:00  33.800560 -118.389170  Last week  \n",
      "971 2006-03-05 00:51:00 2009-02-27 23:30:00  50.211667   15.844167  Last week  \n",
      "972 2005-07-18 14:17:00 2009-02-28 02:28:00  51.266667    0.516667  Last week  \n",
      "973 2006-01-10 04:20:00 2009-02-28 03:43:00  51.750000   -0.333333  Last week  \n",
      "974 2008-07-28 11:12:00 2009-02-28 07:52:00  44.466667   26.133333  Last week  \n",
      "975 2006-03-30 02:02:00 2009-02-28 07:59:00  36.037778   14.294167  Last week  \n",
      "976 2005-11-03 18:14:00 2009-02-28 08:27:00  39.653610 -105.190560  Last week  \n",
      "977 2009-01-27 02:50:00 2009-02-28 09:22:00  51.383333    0.400000  Last week  \n",
      "978 2008-08-26 07:33:00 2009-02-28 09:54:00  38.407222   27.150278  Last week  \n",
      "979 2006-05-30 20:25:00 2009-02-28 09:59:00  34.098330 -118.325830  Last week  \n",
      "980 2008-02-19 09:27:00 2009-02-28 10:06:00  50.833333   -0.150000  Last week  \n",
      "981 2009-01-23 22:31:00 2009-02-28 12:43:00 -39.591667  174.283333  Last week  \n",
      "982 2008-12-23 15:17:00 2009-02-28 14:00:00 -28.050000  153.350000  Last week  \n",
      "983 2009-01-06 16:53:00 2009-02-28 14:39:00  14.650000  -90.483333  Last week  \n",
      "984 2008-12-30 15:19:00 2009-02-28 15:17:00  40.583333   -4.116667  Last week  \n",
      "985 2004-06-20 17:16:00 2009-02-28 17:18:00  39.653610 -105.190560  Last week  \n",
      "986 2005-06-10 20:25:00 2009-02-28 19:57:00  33.517220  -82.075830  Last week  \n",
      "987 2008-03-03 17:38:00 2009-02-28 22:26:00 -33.633333  151.333333  Last week  \n",
      "988 2008-09-21 20:49:00 2009-03-01 00:14:00 -33.883333  151.216667  Last week  \n",
      "989 2009-01-04 05:25:00 2009-03-01 00:39:00  60.966667   25.666667  Last week  \n",
      "990 2009-01-05 11:28:00 2009-03-01 02:28:00  48.216667   16.366667  Last week  \n",
      "991 2005-10-23 09:23:00 2009-03-01 03:11:00  47.466667    8.300000  Last week  \n",
      "992 2009-01-20 09:15:00 2009-03-01 03:29:00  53.650000   -1.783333  Last week  \n",
      "993 2008-11-10 12:15:00 2009-03-01 03:37:00  54.583333   -5.933333  Last week  \n",
      "994 2009-01-09 08:10:00 2009-03-01 04:40:00 -20.360278   57.366111  Last week  \n",
      "995 2008-12-28 17:28:00 2009-03-01 07:21:00  42.946940  -76.429440  Last week  \n",
      "996 2006-11-29 13:31:00 2009-03-01 07:28:00  52.083333    0.433333  Last week  \n",
      "997 2008-11-17 22:24:00 2009-03-01 10:14:00  43.073060  -89.401110  Last week  \n",
      "\n",
      "[709 rows x 13 columns]\n"
     ]
    }
   ],
   "source": [
    "print(df[ df['Login_week']=='Last week' ])"
   ]
  },
  {
   "cell_type": "code",
   "execution_count": 10,
   "metadata": {},
   "outputs": [
    {
     "name": "stdout",
     "output_type": "stream",
     "text": [
      "Sum of purchases with Amex is 188900\n",
      "Sum of purchases with Diners is 133800\n",
      "Sum of purchases with Mastercard is 458450\n",
      "Sum of purchases with Visa is 849350\n"
     ]
    }
   ],
   "source": [
    "# Select all rows with payment types\n",
    "amex = df.loc[:,['Price','Payment_Type']]\n",
    "amex = amex[ amex['Payment_Type'] == 'Amex' ]\n",
    "\n",
    "diners = df.loc[:,['Price','Payment_Type']]\n",
    "diners = diners[diners['Payment_Type'] == 'Diners']\n",
    "\n",
    "mc = df.loc[:,['Price','Payment_Type']]\n",
    "mc = mc[mc['Payment_Type'] == 'Mastercard']\n",
    "\n",
    "visa = df.loc[:,['Price','Payment_Type']]\n",
    "visa = visa[visa['Payment_Type'] == 'Visa']\n",
    "\n",
    "result = [amex, diners, mc, visa]\n",
    "result_concat = pd.concat([amex, diners, mc, visa], keys={'amex': amex,\n",
    "                                                          'diners': diners,\n",
    "                                                          'mc': mc,\n",
    "                                                          'visa': visa})\n",
    "sum_amex = sum(amex['Price'])\n",
    "sum_diners = sum(diners['Price'])\n",
    "sum_mc = sum(mc['Price'])\n",
    "sum_visa = sum(visa['Price'])\n",
    "\n",
    "# Printing all purchases with each payment type\n",
    "print(\"Sum of purchases with Amex is {}\".format(sum_amex))\n",
    "print(\"Sum of purchases with Diners is {}\".format(sum_diners))\n",
    "print(\"Sum of purchases with Mastercard is {}\".format(sum_mc))\n",
    "print(\"Sum of purchases with Visa is {}\".format(sum_visa))"
   ]
  },
  {
   "cell_type": "code",
   "execution_count": 11,
   "metadata": {},
   "outputs": [],
   "source": [
    "# Saving new dataframe to csv\n",
    "result_concat.to_csv('result_dataframe.csv', encoding='utf8')"
   ]
  },
  {
   "cell_type": "code",
   "execution_count": 12,
   "metadata": {},
   "outputs": [
    {
     "name": "stdout",
     "output_type": "stream",
     "text": [
      "            Payment_Type\n",
      "Visa                 522\n",
      "Mastercard           277\n",
      "Amex                 110\n",
      "Diners                89\n"
     ]
    }
   ],
   "source": [
    "# Get the total number of transactions for each payment type\n",
    "payment_values = df['Payment_Type'].value_counts().to_frame()\n",
    "print(payment_values)"
   ]
  },
  {
   "cell_type": "code",
   "execution_count": 14,
   "metadata": {},
   "outputs": [
    {
     "data": {
      "image/png": "[encoded data removed]",
      "text/plain": [
       "<Figure size 936x576 with 1 Axes>"
      ]
     },
     "metadata": {},
     "output_type": "display_data"
    }
   ],
   "source": [
    "# Plotting results\n",
    "\n",
    "# Creating new dataframe to be plotted\n",
    "df_plot = pd.DataFrame([[sum_amex, sum_diners, sum_mc, sum_visa]])\n",
    "df_plot.columns = ['Amex', 'Diners', 'Mastercard', 'Visa']\n",
    "\n",
    "df_plot.plot.bar(figsize=(13,8))\n",
    "\n",
    "plt.legend(loc=2)\n",
    "plt.ylabel('Sum $')\n",
    "plt.show()"
   ]
  },
  {
   "cell_type": "code",
   "execution_count": null,
   "metadata": {},
   "outputs": [],
   "source": []
  }
 ],
 "metadata": {
  "kernelspec": {
   "display_name": "Python 3",
   "language": "python",
   "name": "python3"
  },
  "language_info": {
   "codemirror_mode": {
    "name": "ipython",
    "version": 3
   },
   "file_extension": ".py",
   "mimetype": "text/x-python",
   "name": "python",
   "nbconvert_exporter": "python",
   "pygments_lexer": "ipython3",
   "version": "3.6.10"
  }
 },
 "nbformat": 4,
 "nbformat_minor": 4
}
