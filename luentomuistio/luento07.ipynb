{
 "cells": [
  {
   "cell_type": "code",
   "execution_count": 2,
   "metadata": {},
   "outputs": [],
   "source": [
    "from IPython.display import Image\n",
    "from IPython.core.display import HTML \n",
    "from IPython.display import IFrame"
   ]
  },
  {
   "cell_type": "markdown",
   "metadata": {},
   "source": [
    "# JODA Luento 7 - Kertaus on opintojen äiti"
   ]
  },
  {
   "cell_type": "markdown",
   "metadata": {},
   "source": [
    "Luentomuistion valmistelivat [Arho Suominen](https://www.tuni.fi/fi/ajankohtaista/kun-teknologia-muuttuu-yrityksen-taytyy-loytaa-keinot-sopeutua-muutokseen) ja Jukka Huhtamäki. \n",
    "\n",
    "<hr/>\n",
    "\n",
    "<!--Arho Suominen<br />\n",
    "Principal Scientist, D.Sc. (Tech)<br />\n",
    "Adjunct Professor in Technology Forecasting and Analytics at Tampere University <br />\n",
    "VTT TECHNICAL RESEARCH CENTRE OF FINLAND<br />\n",
    "Innovations, Economy, and Policy<br />\n",
    "Vuorimiehentie 3, P.O. Box 1000, 02044 Espoo, Finland<br />\n",
    "Tel. +358 50 5050 354<br />\n",
    "www.vtt.fi, arho.suominen@vtt.fi<br />\n",
    "https://www.linkedin.com/in/arhosuominen<br />\n",
    "Twitter: @ArhoSuominen <br />-->"
   ]
  },
  {
   "cell_type": "markdown",
   "metadata": {},
   "source": [
    "# Mitä on datatiede"
   ]
  },
  {
   "cell_type": "markdown",
   "metadata": {},
   "source": [
    "Datatieteilijän (Data Scientist) rooli organisaatiossa on moninainen. Työtä on kuvattu monitieteiseksi, yhdistäen ainakin tietoteknistä, matemaattista ja liiketoiminnallista osaamista. Harvard Business Reviewin artikkeli \n",
    "[Data Scientist: The Sexiest Job of the 21st Century](https://hbr.org/2012/10/data-scientist-the-sexiest-job-of-the-21st-century) kuvaa datatieteen ammattikuvan muodostumisen:\n",
    "\n",
    "<blockquote>\n",
    "\"...he started to see possibilities. He began forming theories, testing hunches, and finding patterns that allowed him to predict whose networks a given profile would land in. He could imagine that new features capitalizing on the heuristics he was developing might provide value to users.\"\n",
    "</blockquote>\n",
    "\n",
    "Alunperin datatieteestä käytettiin termiä [datalogy](https://dl.acm.org/citation.cfm?id=366510). Mielenkiintoista luettavaa on esimerkiksi Sveindottir ja Frøkjær [teksti](https://link.springer.com/article/10.1007/BF01941128) datalogy-termin kehittäjä Naurin luomasta Kööpenhaminalaisesta tietotekniikan koulutuksen traditiosta. \n",
    "\n",
    "Itselle datatieteessä tuntui, osin virheellisesti, keskeiseltä tilastotieteen osaaminen. Osa on jopa mennyt niin pitkälle että ovat pitäneet tilastotiedettä merkittäviltä osin [samana](http://www2.isye.gatech.edu/~jeffwu/presentations/datascience.pdf) kuin datatiede. On kuitenkin selvää että tämä hyvin kapea käsitys ei kuvaa datatiedettä riittävällä tavalla, vaan tilastotiede on nähtävä yhtenä osana tietojen tutkijan [osaamista](https://arxiv.org/ftp/arxiv/papers/1410/1410.3127.pdf).\n",
    "\n",
    " Datatieteessä keskeistä on kyky muokata laajoja aineistoja sekä hyödyntää \"ohjelmointia\". Erimerkkinä voidaan pitää muutosta pois tilasto-ohjelmista kuten [R](https://fi.wikipedia.org/wiki/R_(ohjelmointikieli) kohti ohjelmointikieliä kuten [Python](https://fi.wikipedia.org/wiki/Python_(ohjelmointikieli). Molemmat ovat käytännössä \"ohjelmointikieliä\", mutta R keskittyy nimenomaisesti tilastolliseen laskentaa ja grafiikan tuottamiseen. Mikä on siis muutos, joka on tapahtunut kun Python kasvattaa suosiotaan osin R:n kustannuksella."
   ]
  },
  {
   "cell_type": "markdown",
   "metadata": {},
   "source": [
    "## CRISP-DM malli"
   ]
  },
  {
   "cell_type": "markdown",
   "metadata": {},
   "source": [
    "<img src=\"https://upload.wikimedia.org/wikipedia/commons/b/b9/CRISP-DM_Process_Diagram.png\" width=800/>"
   ]
  },
  {
   "cell_type": "markdown",
   "metadata": {},
   "source": [
    "Prosessimallin kautta pystyy myös ymmärtämään mitä edellytetään [hyvältä datatieteilijältä](https://www.schoolofdatascience.amsterdam/news/skills-need-become-modern-data-scientist/). Tästä pääsee mukavasti tutustumaan [datatieteen metrokarttaan](http://nirvacana.com/thoughts/2013/07/08/becoming-a-data-scientist/).\n",
    "\n",
    "Täysin relevantti kysymys on mielestäni se, onko realistista että yksi henkilö hallitsee näin laajan kokonaisuuden ja minkälaisia painotuksia oheisen metrokartan sisällä voi tehdä niin että osaaminen on edelleen relevanttia."
   ]
  },
  {
   "cell_type": "markdown",
   "metadata": {},
   "source": [
    "![Image of Data Scientiest profile](https://upload.wikimedia.org/wikipedia/commons/7/7f/Data_scientist_Venn_diagram.png)"
   ]
  },
  {
   "cell_type": "markdown",
   "metadata": {},
   "source": [
    "Philip Guo avaa [ACM:n blogissa](https://cacm.acm.org/blogs/blog-cacm/169199-data-science-workflow-overview-and-challenges/fulltext) data tieteen työprosessia. \n",
    "\n",
    "Kuva esittelee työn neljä päävaihetta: tiedon esikäsittely, vuoropuhelu analyysin ja tulosten reflektion välillä ja lopussa tulosten viestiminen vastaanottajalle soveltuvassa muodossa."
   ]
  },
  {
   "cell_type": "markdown",
   "metadata": {},
   "source": [
    "![\"Datatieteen työprosessi\"](https://cacm.acm.org/system/assets/0001/3678/rp-overview.jpg)"
   ]
  },
  {
   "cell_type": "markdown",
   "metadata": {},
   "source": [
    "## Liiketoimintarelevanssi"
   ]
  },
  {
   "cell_type": "markdown",
   "metadata": {},
   "source": [
    "On [osoitettu](https://link.springer.com/article/10.1007/s10796-016-9720-4) että data analytiikan kyvykkyydet (tunnistaminen, hankkiminen, integraatio, toimittaminen sekä analytiikan työkalut) sekä valmiudet (strategia, johdon tuki, resurssointi) parantavat yrityksen suorituskykyä. Kyse on erityisesti siitä miten analytiikka voi lisätä ymmärrätystä liiketoimintaprosessista eikä niinkään tavoitteesta korvata ihmistä. \n",
    "\n",
    "Tätä ymmärrystä voi auttaa [analytiikan nelikenttä](https://journals.sagepub.com/doi/pdf/10.1177/0256090920130401), joka jaetaan seuraaviin teemoihin\n",
    "- Kuvaileva analytiikka \n",
    "- Dignosoiva analytiikka\n",
    "- Ennakoiva analytiikka\n",
    "- Ohjaileva analytiikka"
   ]
  },
  {
   "cell_type": "markdown",
   "metadata": {},
   "source": [
    "![Analytiikan nelikenttä (Banerjee et al. (2013)](diagram/banerjee-et-al-types-of-analytics.png)"
   ]
  },
  {
   "cell_type": "markdown",
   "metadata": {},
   "source": [
    "Kuvaileva analytiikka pyrkii selittämään mitä on tapahtunut. Kyse on eri muuttujien tunnistamisesta ja mallintamisesta ajatuksena tuottaa kuvaa siitä mitä prosessissa tapahtuu.\n",
    "\n",
    "Diagnosoiva analytiikka pyrkii selittämään miksi jotain tapahtui. Työ on eksploratiivista nykyisen ja osittain vielä tuntemattoman data kuvailu ja visualisointia jotta voidaan paremmin ymmärtää miksi jokin tapahtuma on tapahtunut.\n",
    "\n",
    "Ennakoiva analytiikka pyrkii, kuten nimi hyvin toteaa, ennakoivaa tulevaa liiketoimintatilannetta, kuten myyntiä. Kyse on yleisimmin aikasarja-aineiston mallintamisesta tulevaisuuteen. Hyvä kysymyksen asettelu on, että mitä tulee tapahtumaan?\n",
    "\n",
    "Ohjaava analytiikka pyrkii vastaamaan kysymykseen mitä asialle pitäisi tehdä. Jos taustalla pidetään liiketoiminnan tavoitteet, ohjaavalla analytiikalla pyritään tuottamaan ymmärrystä siitä, miten nykyistä liiketoimintaprosessia voidaan optiomoida kohti tavoitteita."
   ]
  },
  {
   "cell_type": "markdown",
   "metadata": {},
   "source": [
    "Vaikka [The value of Big Data: How analytics\n",
    "differentiates winners -raportti](https://www.bain.com/contentassets/5672af3b82f84aa2a80ca732fa8ea06c/bain20_brief_the_value_of_big_data.pdf) on jo hieman vanha, antaa se hyvä kuvan yritysten analytiikkakyvyistä. Raportin kuva 1 vetää laajan kyselyn tuloksia yhteen seuraavasti:\n",
    "\n",
    "- Vain 36 % yrityksitä on erikoistunut data-analytiikkatiimi\n",
    "- Vain 19 % yrityksistä omaa selkeän ja luotettavan dataprosessin.\n",
    "- Vain 23 % yrityksistä on selkeä analytiikka strategia.\n",
    "- Vain 38 % yrityksistä käyttää nykyaikaisia analytiikka työkaluja"
   ]
  },
  {
   "cell_type": "code",
   "execution_count": 3,
   "metadata": {},
   "outputs": [
    {
     "data": {
      "text/html": [
       "<iframe width=\"560\" height=\"315\" src=\"https://www.youtube.com/embed/hcGC_B5yF0Q\" frameborder=\"0\" allow=\"accelerometer; autoplay; encrypted-media; gyroscope; picture-in-picture\" allowfullscreen></iframe>"
      ],
      "text/plain": [
       "<IPython.core.display.HTML object>"
      ]
     },
     "execution_count": 3,
     "metadata": {},
     "output_type": "execute_result"
    }
   ],
   "source": [
    "HTML('<iframe width=\"560\" height=\"315\" src=\"https://www.youtube.com/embed/hcGC_B5yF0Q\" frameborder=\"0\" allow=\"accelerometer; autoplay; encrypted-media; gyroscope; picture-in-picture\" allowfullscreen></iframe>')"
   ]
  },
  {
   "cell_type": "markdown",
   "metadata": {},
   "source": [
    "## Data"
   ]
  },
  {
   "cell_type": "markdown",
   "metadata": {},
   "source": [
    "![Datatyypit Python 3:ssa](https://upload.wikimedia.org/wikipedia/commons/1/10/Python_3._The_standard_type_hierarchy.png)"
   ]
  },
  {
   "cell_type": "markdown",
   "metadata": {},
   "source": [
    "![Pandan datatyypit](https://pbpython.com/images/pandas_dtypes.png)"
   ]
  },
  {
   "cell_type": "markdown",
   "metadata": {},
   "source": [
    "### Piirteet"
   ]
  },
  {
   "cell_type": "markdown",
   "metadata": {},
   "source": [
    "Laskennallinen analytiikka perustuu piirteisiin (engl. feature). Piirteet voivat olla binäärisiä, kategoria tai jatkuvia. Piirteet ovat syötteen muuttujan synonyymi. Esimerkkinä voidaan pitää lääkärin diagnoosia. Piirteitä ovat oireet, eli muuttujat, jotka luokittelevat terveyden potilaan tila (esim. kuume, verenkuva jne.)\n",
    "\n",
    "Ihmisten asiantuntemusta tarvitaan muuttamaan raakatieto sarjaksi hyödyllisiä ominaisuuksia. Tätä prosessia voidaan täydentää ja ja avustaa eri menetelmillä, jotka automaattisesti tunnistavat piirteitä. Prosesseja ovat esimerkiksi:\n",
    "\n",
    "* Standardointi: Ominaisuudet voivat olla esimerkiksi mittakaavoja, kuten pituus ja leveys. Tilanteessa jossa leveys on   mitattu sentteinä ja pituus metreinä, on meidän ensimmäisenä harmonisoitava muuttujat. \n",
    "* Kohinan poisto: Syötteen käsittelyyn voidaan käyttää eri menetelmiä tunnistaa syötteessä esintyvää taustakohintaa tai  kausivaihtelua.\n",
    "* Ulottuvuuksien vähentäminen: Tilanteessa jossa syöte on hyvin moniulotteinen voidaan käyttää menetelmiä kuten pääkomponenttianalyysi vähentämään syötteen ulottuvuuksia.\n",
    "* Ulottuvuuksien kasvattaminen: Voimme pyrkiä myös kasvattamaan aineiston ulottuvuuksia laskemalla uusia muuttujia.\n",
    "\n",
    "Piirredatan kehittämiseen viitataan käsitteellä [piirteiden jalostaminen](https://www.kaggle.com/learn/feature-engineering) (feature engineering)."
   ]
  },
  {
   "cell_type": "markdown",
   "metadata": {},
   "source": [
    "## Työkalut"
   ]
  },
  {
   "cell_type": "markdown",
   "metadata": {},
   "source": [
    "![Ryömijän työprosessi, lähde WIkipedia](https://upload.wikimedia.org/wikipedia/commons/d/df/WebCrawlerArchitecture.svg)"
   ]
  },
  {
   "cell_type": "markdown",
   "metadata": {},
   "source": [
    "!['Koneoppimisalgoritmien jaottelua'](http://en.proft.me/media/science/ml_types2.png)"
   ]
  },
  {
   "cell_type": "markdown",
   "metadata": {},
   "source": [
    "![\"Scikit-learn map\"](https://scikit-learn.org/stable/_static/ml_map.png)"
   ]
  },
  {
   "cell_type": "code",
   "execution_count": 7,
   "metadata": {},
   "outputs": [
    {
     "data": {
      "text/html": [
       "\n",
       "        <iframe\n",
       "            width=\"1000\"\n",
       "            height=\"800\"\n",
       "            src=\"https://www.nltk.org/book/ch01.html\"\n",
       "            frameborder=\"0\"\n",
       "            allowfullscreen\n",
       "        ></iframe>\n",
       "        "
      ],
      "text/plain": [
       "<IPython.lib.display.IFrame at 0x5ac9588>"
      ]
     },
     "execution_count": 7,
     "metadata": {},
     "output_type": "execute_result"
    }
   ],
   "source": [
    "IFrame('https://www.nltk.org/book/ch01.html', width=1000, height=800)"
   ]
  },
  {
   "cell_type": "code",
   "execution_count": 8,
   "metadata": {},
   "outputs": [
    {
     "data": {
      "text/html": [
       "<iframe width=\"560\" height=\"315\" src=\"https://www.youtube.com/embed/Qgam9M8I0xA\" frameborder=\"0\" allow=\"accelerometer; autoplay; encrypted-media; gyroscope; picture-in-picture\" allowfullscreen></iframe>"
      ],
      "text/plain": [
       "<IPython.core.display.HTML object>"
      ]
     },
     "execution_count": 8,
     "metadata": {},
     "output_type": "execute_result"
    }
   ],
   "source": [
    "HTML('<iframe width=\"560\" height=\"315\" src=\"https://www.youtube.com/embed/Qgam9M8I0xA\" frameborder=\"0\" allow=\"accelerometer; autoplay; encrypted-media; gyroscope; picture-in-picture\" allowfullscreen></iframe>')"
   ]
  },
  {
   "cell_type": "markdown",
   "metadata": {},
   "source": [
    "Käydään myös lopuksi katsomassa [Google prosessikuvaa](https://cloud.google.com/blog/products/gcp/google-patents-public-datasets-connecting-public-paid-and-private-patent-data), joka kertoo hyvin sen miten koostamme tietoa useista lähteistä."
   ]
  },
  {
   "cell_type": "markdown",
   "metadata": {},
   "source": [
    "# Mitä on visuaalinen analytiikka?"
   ]
  },
  {
   "cell_type": "markdown",
   "metadata": {},
   "source": [
    "Visualisoinnilla on kaksi keskeistä sovellusta datatieteessä\n",
    "\n",
    "1. **Eksploratiivinen analytiikka**: raakadatan tutkiva kartoittaminen \n",
    "2. **Kommunikointi**: tulosten ja sen välivaiheiden välittäminen loppukäyttäjälle\n",
    "\n"
   ]
  },
  {
   "cell_type": "code",
   "execution_count": 7,
   "metadata": {},
   "outputs": [
    {
     "data": {
      "text/html": [
       "<iframe width=\"800\" height=\"600\" src=\"https://embed.ted.com/talks/hans_rosling_shows_the_best_stats_you_ve_ever_seen\" width=\"854\" height=\"480\" style=\"position:absolute;left:0;top:0;width:100%;height:100%\" frameborder=\"0\" scrolling=\"no\" allowfullscreen></iframe>"
      ],
      "text/plain": [
       "<IPython.core.display.HTML object>"
      ]
     },
     "execution_count": 7,
     "metadata": {},
     "output_type": "execute_result"
    }
   ],
   "source": [
    "HTML('<iframe width=\"800\" height=\"600\" src=\"https://embed.ted.com/talks/hans_rosling_shows_the_best_stats_you_ve_ever_seen\" width=\"854\" height=\"480\" style=\"position:absolute;left:0;top:0;width:100%;height:100%\" frameborder=\"0\" scrolling=\"no\" allowfullscreen></iframe>')"
   ]
  },
  {
   "cell_type": "markdown",
   "metadata": {},
   "source": [
    "Visualisoinnin prosessi ei eroa merkittäväsi datatieteen työprosesissa, eikä tietysti ole tarkoituskaan erota. Datan visualisoinnin seitsemän prosessiaskelta ovat itseasiassa datatieteen prosessi. Tämä käytännössä tarkoittaa sitä, että nimenomaan datan kuvaaminen mielekkäässä muodossa on keskeistä datatieteen prosessille."
   ]
  },
  {
   "cell_type": "markdown",
   "metadata": {},
   "source": [
    "[Yleisiä periaatteita](https://books.google.fi/books?hl=en&lr=&id=RRswXg4pJhcC&oi=fnd&pg=PR3&dq=visualizing+data&ots=798mYDjWIa&sig=vZE8vLaz3CoPZwf0yqRZQlxTd0M&redir_esc=y#v=onepage&q=visualizing%20data&f=false) aineiston visualisoinnnille ovat esimerkiksi:"
   ]
  },
  {
   "cell_type": "markdown",
   "metadata": {},
   "source": [
    "1. Jokaisella projektilla on omat ainutkertaiset rajoitteensa. Visualisoinnin tavoitteena on kuvata niitä piirteitä jotka ovat keskeisiä sille aineistolle jota pyritään kuvaamaan.\n",
    "2. Yleensä vähemmän on enemmän. Mikäli yhdessä kuvassa pyritään kuvaamana liian tarkasti sekä yksityiskohtaisesti jotakin on todennäköistä että käyttäjä ei huomaa olennaista. Tavoitteena on siis käyttää niin vähän dataa kuin mahdollista kuvaamaan sitä mikä ainestossa on olennaista.\n",
    "3. Tunne yleisösi: Kenelle teet kuvaajaa? Miksi he käyttävät sitä ja mitä heidän tulisi oppia tuotetusta visualisoinnista?"
   ]
  },
  {
   "cell_type": "markdown",
   "metadata": {},
   "source": [
    "Käytännössä esiintyy siis kuuden tyyppisiä visualisointeja:"
   ]
  },
  {
   "cell_type": "markdown",
   "metadata": {},
   "source": [
    "1. Aikasarjat, kuten työttömyysaste kymmenen vuoden aikana. Tähän voi sisältyä myös jokin trendi.\n",
    "2. Lajitellut luokat, katerorinen muuttuja joka järjestetään jonkin ominaisuuden mukaan. Esimerkiksi myyjien myyntimäärät\n",
    "3. Osa kokonaisuutta, kategoriset osakokonaisuudet esitetään kokonaisuuden osana. Esimerkkinä piirakkakuvaaja.\n",
    "4. Erokuvaaja, kategorisia muuttjia vertaillaan keskenään ja tarkastellaan eroa. Esimerkiksi budjetoitu ja toteutunut.\n",
    "5. Frekvenssi, jokin muuttujien ilmentymät valittuna tarkastelujaksona. Esimerkiksi histogrammi.\n",
    "6. Korrelatio, jonkin kahden muuttujan välinen suhde."
   ]
  },
  {
   "cell_type": "code",
   "execution_count": 8,
   "metadata": {},
   "outputs": [
    {
     "data": {
      "text/html": [
       "\n",
       "        <iframe\n",
       "            width=\"1000\"\n",
       "            height=\"800\"\n",
       "            src=\"https://www.cc.gatech.edu/~stasko/papers/infovis05.pdf\"\n",
       "            frameborder=\"0\"\n",
       "            allowfullscreen\n",
       "        ></iframe>\n",
       "        "
      ],
      "text/plain": [
       "<IPython.lib.display.IFrame at 0x104c1f630>"
      ]
     },
     "execution_count": 8,
     "metadata": {},
     "output_type": "execute_result"
    }
   ],
   "source": [
    "IFrame('https://datavizproject.com/', width=800, height=600)"
   ]
  },
  {
   "cell_type": "markdown",
   "metadata": {},
   "source": [
    "Ben Shneidermanin [The eyes have it: a task by data type taxonomy for information visualizations](http://doi.org/10.1109/VL.1996.545307) on akateemisen visualisointikirjallisuuden klassikko. Amar, Eagan ja Stasko ([2005](https://www.cc.gatech.edu/~stasko/papers/infovis05.pdf)) käyvät läpi erään jäsennyksen visualisointityypeistä.\n",
    "\n",
    "\n",
    "# Kysymyksiä"
   ]
  },
  {
   "cell_type": "markdown",
   "metadata": {},
   "source": [
    "\"Onko joka viikko keksittävä kehitysehdotus? Kävisikö joskus vaikka kysymys tai kehu sen sijasta? Eli tämä voisi olla kolmen koon osio :D. Eli joka viikko joko kehitysehdotus, kysymys tai kehu.\"\n",
    "\n",
    "- Muokataan seuraavalle toteutukselle!"
   ]
  },
  {
   "cell_type": "markdown",
   "metadata": {},
   "source": [
    "\"Itse en löydä Slackista harjoitustyön eri vaiheille omia kanaviaan?\"\n",
    "\n",
    "- Löytyy Channels-linkin alta. Ota yhteyttä jos ei löydy!"
   ]
  },
  {
   "cell_type": "markdown",
   "metadata": {},
   "source": [
    "\"Itsellä ei näy omalla koneella nämä luentokirjojen “koodien tuotokset” esimerkiksi nämä taksinjättöpaikka visualisoinnt eivät näy. Mikä ohjelma/paketti pitäisi asentaa, että näkyisi?\"\n",
    "\n",
    "- Itselläni Javascript-visualisoinnit toimivat vain Jupyter Notebookissa, eivät JupyterLabissä. Yksi mahdollinen ongelma on \"Bokeh\"-paketin puttuminen. Tosin, import komennon pitäisi ilmoitta mikäli pakettia ei voida asentaa. [Tästä](https://github.com/pyviz/holoviews/issues/2587) voi myös olla apua."
   ]
  },
  {
   "cell_type": "markdown",
   "metadata": {},
   "source": [
    "\"Vaikka datatieteen ja informaationteknologian terminologia on ymmärrettävästikin pääosin englanninkielistä ja englannista käännettyä, koen, että yleiskielisyyteen voi aina pyrkiä kiinnittämään huomiota. Esimerkiksi klusteri oli itselleni täysin vieras käsite, jota olisi voitu avata luennon aikana.\"\n",
    "\n",
    "- Varsin hyvä kommentti. Termit ovat usein omassa käytössäni englanniksi ja se osin haastaa löytämään suomenkielistä vastinetta. Olen tosin ottanut tämän osittain haasteena. En välttämättä ehdi enää määrittelemään ihan kaikkea mutta tarjoan [lähdemateriaalia](https://fi.wiktionary.org/wiki/Luokka:Suomen_kielen_tietotekniikan_sanasto)"
   ]
  },
  {
   "cell_type": "markdown",
   "metadata": {},
   "source": [
    "\"Mitä robustisuus tarkoittaa? Vankkaa päätöksentekoa?\"\n",
    "\n",
    "- Tätä ei taida löytyä listalta, joten määritellään tässä. Käytin termiä \"robustisuus\" kuvaamaan algoritmin kykyä suoriutua samalla tavalla vastaavan, mutta ennestään tuntemattoman, datan analyysistä. Tuottaako algoritmi johdonmukaisesti samankaltaisen lopputuloksen samankaltaisesta syötteestä.\n",
    "\n",
    "Tähän liittyy kiinteästi vaikka [ylisovittaminen](https://medium.com/greyatom/what-is-underfitting-and-overfitting-in-machine-learning-and-how-to-deal-with-it-6803a989c76) jossa mallimme kuvastaa tarkasti opetusdataa eikä tutkittavassa ilmiössä yleisetsi esiintyvää trendiä."
   ]
  },
  {
   "cell_type": "markdown",
   "metadata": {},
   "source": [
    "\"Olisi mielenkiintoista nähdä, kuinka monimutkaista analyysiä yksinkertaisesta datasta voidaan tehdä. Siis kuinka villejä johtopäätöksiä todella pelkistetystä datasta voidaan johtaa lisäämällä ulottuvuuksia/luomalla piirteitä.\"\n",
    "\n",
    "- Ottaisin tästä esimerkiksi terveyden datat. Kyse, erityisesti diagnoosissa ja ennakoinnissa, on usean lähteen aineiston samanaikaisesta yhdistämisestä, kuten esimerkiksi [FitBit](https://www.fastcompany.com/40578138/how-fitbit-is-trying-to-transform-healthcare-and-itself) yrittää toteuttaa."
   ]
  },
  {
   "cell_type": "markdown",
   "metadata": {},
   "source": [
    "\"Oliko luokittelu vai regressio?\"\n",
    "\n",
    "- Lineaarinen regressio on tilastollisen analyysin menetelmä jota voidaan käyttää ennustamaan jatkuvan muuttujan arvoja selittävien muuttujien avulla, jos selitettävän ja selitettävien muuttujien välillä on (lineaarinen) riippuvuus. Dataanalyysissä hyödynnämme menetelmää [luokittelijana](https://machinelearningmastery.com/logistic-regression-for-machine-learning/) dikotomisen (kyllä/ei, 1/0) muuttujan välillä. Luokittelussa hyödynnämme [regressioviivaa luokittelijana](https://towardsdatascience.com/understanding-logistic-regression-9b02c2aec102)"
   ]
  },
  {
   "cell_type": "markdown",
   "metadata": {},
   "source": [
    "\"vinkkejä tämän hetken trendeistä datatieteiden parissa ja myös mikäli on näkyvissä joitakin tulevia trendejä.\"\n",
    "\n",
    "* Hyvän listauksen uusista trendeistä antaa [Hugo Lopes](https://towardsdatascience.com/data-science-trends-for-2019-11b2397bd16b). Listalla ovat mainittuna ratkaisut seuraaviin kysymyksiin:\n",
    " * How can we minimize the time spent, by data scientists, on data cleaning and feature engineering?\n",
    " * How can we define trust in the context of machine learning?\n",
    " * If we say that a machine model is fair, what are its characteristics?"
   ]
  },
  {
   "cell_type": "markdown",
   "metadata": {},
   "source": [
    "\"Toivoisin työkalu-jen toimintalogiikkojen tarkempaa selittämistä lisää myös muille luentoviikoille.\"\n",
    "\n",
    "- Valitettavasti tämä jää kehitysehdotukseksi seuraavalle toteutuskerralle."
   ]
  },
  {
   "cell_type": "markdown",
   "metadata": {},
   "source": [
    "# Kurssin suorittaminen\n"
   ]
  },
  {
   "cell_type": "markdown",
   "metadata": {},
   "source": [
    "## Oppimispäiväkirja"
   ]
  },
  {
   "cell_type": "markdown",
   "metadata": {},
   "source": [
    "\n",
    "Opintojaksosta voi kerätä yhteensä 30 pistettä. Oppimispäiväkirjasta on tarjolla 18 pistettä ja harjoitustyöstä 12 pistettä.\n",
    "\n",
    "Suorittaminen edellyttää yhteensä 15 pisteen keräämistä.\n",
    "\n",
    "Tiivis ohje oppimispäiväkirjan kirjoittamiseen:\n",
    "\n",
    "- Kerro osallistuitko viikon opetukseen ja kuvaa päiväkirjan laatimisessa käyttämäsi aineisto.\n",
    "- Tiivistä jokaisen luentoviikon keskeiset asiat tekstiksi.\n",
    "- Kirjaa lisäksi ylös viisi oivallusta tai tärkeintä oppimaasi asiaa erilliseksi listaksi.\n",
    "- Listaa vielä yhdestä kolmeen kehityskohdetta luentoviikolle.\n",
    "\n",
    "Oppimispäiväkirja karttuu noin yhdellä A4-sivulla viikossa."
   ]
  },
  {
   "cell_type": "markdown",
   "metadata": {},
   "source": [
    "Palauta oppimispäiväkirja samassa yhteydessä kuin harjoitustyö, viimeistään perjantaina 15. toukokuuta 2020. Katso ohjeet palautukseen harjoitustyöohjeesta."
   ]
  },
  {
   "cell_type": "markdown",
   "metadata": {},
   "source": [
    "## Harjoitustyö"
   ]
  },
  {
   "cell_type": "markdown",
   "metadata": {},
   "source": [
    "Johdanto datatieteeseen -harjoitustyössä käydään läpi datatiedeprojektin keskeiset vaiheet. Voit valita aiheen ja datalähteen vapaasti. Saat pisteitä julkaisemalla Slackissa kuvauksen harjoitustyön eri vaiheiden toteutuksesta. Eräs vaihtoehto on Airbnb-aineiston analyysi datatieteen menetelmin. Voit vaikkapa toteuttaa hintaennustimen esimerkkianalyysiä soveltamalla."
   ]
  },
  {
   "cell_type": "markdown",
   "metadata": {},
   "source": [
    "Työvaiheita ovat\n",
    "\n",
    "- Kehitysympäristö \n",
    "- Datan kerääminen \n",
    "- Datan jalostaminen\n",
    "- Datan kuvaileminen \n",
    "- Koneoppiminen \n",
    "- Toimeenpano \n",
    "\n",
    "Pisteiden kerääminen tapahtuu julkaisemalla kunkin vaiheen kuvaus toteutuskerran Slackissä keskiviikkoon 29. huhtikuuta kello 17 mennessä. Pisteet myönnetään täysimääräisenä kun minimivaatimukset täyttyvät ja palautus on tehty annetun aikataulun puitteissa.\n",
    "\n",
    "Aihepiiriin jo ennen toteutuskerran alkua perehtyneitä suorittajia kannustetaan toteuttamaan etenkin ensimmäiset vaiheet annettua aikataulua rivakammin ja siten jakamaan osaamistaan muille. Erityisen informatiiviset palautukset huomioidaan kokonaissuoritusta arvosteltaessa.\n",
    "\n",
    "Yhden vaiheen kuvaus sisältää seuraavat pääkohdat:\n",
    "\n",
    "- tiivis kuvaus toteutuksesta,\n",
    "- muutamia otteita toteutuksesta (ohjelmakoodista, asetustiedostoista, …),\n",
    "- listaus (siis lista linkkejä) ohjeista tai esimerkiksi verkkolähteistä jotka olivat erityisesti hyödyksi tehtävää tehdessä ja\n",
    "- listaus vähintään kolmesta asiasta, jotka olivat valitulla teknologialla joko erityisen helppoja tai vastaavasti hankaloittivat työtäsi merkittävästi.\n",
    "\n",
    "Kun viesti on valmis, julkaise se Slackissä. Halutessasi voit kirjoittaa kuvauksen esimerkiksi dillinger.io-palvelulla ja liittää sen Slackiin-viestiin PDF-muodossa. Löydät Slackistä erillisen kanavan kullekin eri vaiheelle. Lisää Slack-viestiin sopivat hashtagit (esimerkiksi #jupyter #scikitlearn #pandas) kuvaamaan toteutuksessa käyttämiäsi teknologioita.\n",
    "\n"
   ]
  },
  {
   "cell_type": "markdown",
   "metadata": {},
   "source": [
    "## Palautus"
   ]
  },
  {
   "cell_type": "markdown",
   "metadata": {},
   "source": [
    "Harjoitustyön palautus tapahtuu lähettämällä oheisen mallin mukainen viesti [Moodlen palautusautomaatilla](https://moodle.tuni.fi/mod/assign/view.php?id=279813) perjantaihin 15.5. kello 17 mennessä.\n",
    "\n",
    "Nimi: James Station\n",
    "Opiskelijanumero: 213456\n",
    "Sähköposti: jstat@trolleywatch.org\n",
    "\n",
    "Harjoitustyöni aihe: Julkisen liikenteen vaikutus Airbnb-asunnon hintaan\n",
    "\n",
    "Harjoitustyö löytyy kokonaisuudessaan oheisesta zip-paketista (jodatuni2020-234567.zip).\n",
    "\n",
    "Oppimispäiväkirjani löytyy osoitteesta: http://blog.fi/jamesstation/jodatuni2020.\n",
    "\n",
    "Palautettavan zip-paketin (jodatuni2020-opiskelijanumero.zip) tulee sisältää hakemisto nimeltä jodatuni2020-234567 (korvaa lukusarja 234567 omalla opiskelijanumerollasi), jonka sisältä löytyvät työhösi liittyvät koodi- ja asetustiedostot. Huomaa, että sovelluksen ei tarvitse toimia sellaisenaan. Riittää, että paketin sisältöön voi perehtyä suoraviivaisesti paketin purkamalla.\n",
    "\n",
    "Keräsin yhteensä N pistettä seuraavista toteutuksista: \n",
    "\n",
    "| Vaihe  | Pisteet (1-3)  |  Linkki Slack-kuvaukseen |   \n",
    "|---|---|---|---|---|\n",
    "| Kehitysympäristö | 1  | (huom: tarkastamisen helpottamiseksi tee linkistä toimiva [hyperlinkki](https://fi.wikipedia.org/wiki/Hyperlinkki)!) |   \n",
    "| Datan kerääminen |   |   |\n",
    "| Datan jalostaminen |   |   |\n",
    "| Datan kuvaileminen |   |   |\n",
    "| Koneoppiminen |   |   |\n",
    "| Toimeenpano |   |  &nbsp; |\n",
    "\n",
    "\n"
   ]
  },
  {
   "cell_type": "code",
   "execution_count": null,
   "metadata": {},
   "outputs": [],
   "source": []
  },
  {
   "cell_type": "code",
   "execution_count": null,
   "metadata": {},
   "outputs": [],
   "source": []
  }
 ],
 "metadata": {
  "kernelspec": {
   "display_name": "Python 3",
   "language": "python",
   "name": "python3"
  },
  "language_info": {
   "codemirror_mode": {
    "name": "ipython",
    "version": 3
   },
   "file_extension": ".py",
   "mimetype": "text/x-python",
   "name": "python",
   "nbconvert_exporter": "python",
   "pygments_lexer": "ipython3",
   "version": "3.6.4"
  }
 },
 "nbformat": 4,
 "nbformat_minor": 2
}
