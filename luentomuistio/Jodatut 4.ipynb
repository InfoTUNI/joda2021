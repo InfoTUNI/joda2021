{
 "cells": [
  {
   "cell_type": "code",
   "execution_count": 4,
   "metadata": {},
   "outputs": [],
   "source": [
    "from IPython.display import Image\n",
    "from IPython.core.display import HTML \n",
    "from IPython.display import IFrame"
   ]
  },
  {
   "cell_type": "markdown",
   "metadata": {},
   "source": [
    "# JODA Luento 4"
   ]
  },
  {
   "cell_type": "markdown",
   "metadata": {},
   "source": [
    "Arho Suominen<br />\n",
    "Senior Scientist, D.Sc. (Tech)<br />\n",
    "Adjunct Professor in Technology Forecasting and Analytics at Tampere University of Technology <br />\n",
    "VTT TECHNICAL RESEARCH CENTRE OF FINLAND<br />\n",
    "Innovations, Economy, and Policy<br />\n",
    "Vuorimiehentie 3, P.O. Box 1000, 02044 Espoo, Finland<br />\n",
    "Tel. +358 50 5050 354<br />\n",
    "www.vtt.fi, arho.suominen@vtt.fi<br />\n",
    "https://www.linkedin.com/in/arhosuominen<br />\n",
    "Twitter: @ArhoSuominen <br />"
   ]
  },
  {
   "cell_type": "markdown",
   "metadata": {},
   "source": [
    "## Mitä prosessia käyttäisi tehdessäsi harjoitustyötä?"
   ]
  },
  {
   "cell_type": "markdown",
   "metadata": {},
   "source": [
    "Aika pitkälti lähtisin samasta millä töitä tehdään muutenkin, eli käyttäisin [CRISP-DM](https://www.kdnuggets.com/polls/2014/analytics-data-mining-data-science-methodology.html) mallia. Tänään tehdäänkin asioita käytännössä.\n",
    "\n",
    "Luentojen aikana on tullut esiteltyä jo muutama erilainen aineisto. Olemme katsoneet huollon vikailmoituksia, kuluttajadataa finanssisektorilta ja tämän päivän luento varten piti tutustua AirBnB-aineisto. Selvää on kuitenkin se, että luentojen lähestymistapa aineistoon on täysin väärä. Olemme vain ottaneet aineistoja ja kevyellä prosessoinnilla siirtyneet suoraan esittelemään jotain yksityiskohtaa aineistossa. Tarkoituksena tänään on käydä keskustellen läpi CRISP-DM prosessi (tai ainakin sen alkumetreistä).\n",
    "\n",
    "Tässä prosessissa käytetään hyödyksi Jeff Pattonin [Mahdollisuus kanvaasia.](https://www.jpattonassociates.com/opportunity-canvas/) Kanvaasi on kehitetty liiketoiminta- ja Lean-kanvaasin pohjalta ja sen tarkoituksena on mahdollistaa keskustelu ratkaisusta jota olemme ideoimassa. Tehtävän tavoitteena on pistää teidät pohtimaan harjoitustyötä ongelmalähtöisesti.\n",
    "\n",
    "[Niklas Stepheson](https://tech.trustpilot.com/frame-your-problem-or-idea-with-an-opportunity-canvas-e360d963fd34) kuvaa hyvin miten kanvaasi voi hyödyntää ja me käytämme sitä tänään samalla prosessilla. Mahdollisuus kanvaasin käyttö on yksinkertaista ja se käydään alla läpi lyhyesti."
   ]
  },
  {
   "cell_type": "code",
   "execution_count": 11,
   "metadata": {},
   "outputs": [
    {
     "data": {
      "text/html": [
       "\n",
       "        <iframe\n",
       "            width=\"1000\"\n",
       "            height=\"700\"\n",
       "            src=\"opportunity_canvas.pdf\"\n",
       "            frameborder=\"0\"\n",
       "            allowfullscreen\n",
       "        ></iframe>\n",
       "        "
      ],
      "text/plain": [
       "<IPython.lib.display.IFrame at 0x715a1d0>"
      ]
     },
     "execution_count": 11,
     "metadata": {},
     "output_type": "execute_result"
    }
   ],
   "source": [
    "IFrame(\"opportunity_canvas.pdf\", width=1000, height=700)"
   ]
  },
  {
   "cell_type": "markdown",
   "metadata": {},
   "source": [
    "<ol>\n",
    "<li>Aloita numerosta 1. Ongelma. Kanvaasi on suunniteltu niin että voit aloittaa joko ratkaisusta tai ongelmasta ja päätyä molempia reittejä takaisin ratkaisuun tai ongelmaan. Kurssin puitteissa lähdetään liikkeelle siitä että kuvaat ongelman, eli kysymyksen minkä haluat ratkaista. Vastaakin kysymykseen, mikä on ongelma johon haluan tuottaa ratkaisun?</li><br />    \n",
    "<li>Kuka käyttää ratkaisua. Kuten yleensä, on huono ratkaisu todeta että tätä käyttää kaikki vaan pikemminkin kuvata ne segmentit jotka voisivat käyttää palvelua ja kuvata mitkä ovat näiden segmenttien erot.</li><br />\n",
    "<li>Kuvaa miten ongelma on ratkaistu tänään. Tämä antaa kuvan siitä miten voit mitata oman ratkaisusi \"suorituskykyä\" verrattuna nykyiseen ratkaisuun. Ratkasuna voi olla myös jokin epätyypillinen kiertotie ongelman ratkaisemiseen.</li><br />\n",
    "<li>Kohdassa neljä määritellään liiketoimintaongelma, tai pikemminkin sitä miten tarjoamasi ongelman ratkaisu vaikuttaa liiketoimintaan. Asiaa voi ajatella myös käänteisesti, miten ongelman jättäminen ratkaisematta vaikuttaa liiketoimintaan.</li><br />\n",
    "<li>Miten käyttäjät käyttävät ratkaisua. Miten käyttäjän prosessi muuttuu siitä että käyttää ratkaisua ja mikä on heidän saama hyöty.</li><br />\n",
    "<li>Miten voisit mitata sitä että käyttäjät testaavat, käyttävät, sisäistävät ratkaisun. Miten mittaat käyttäjän ratkaisusta saamaa hyötyä?</li><br />\n",
    "<li>[Teknologian hyväksyntä](https://en.wikipedia.org/wiki/Technology_acceptance_model) voidaan käytännössä jakaa kahteen osaan: subjektiivisesti koettu hyöty ja helppokäyttöisyys. Hyöty määritellään siten, että kuinka paljon toteutettu ratkaisu voi helpottaa henkilön työprosessia. Helppokäyttöisyys kuvaa sitä kuinka pienen työn järjestelmän käyttöönotto vaatii.</li><br />\n",
    "<li>Miten voisit mitata ratkaisun vaikutusta yrityksesi liiketoimintaan.</li><br />\n",
    "<li>Budjetti, miten tämä realisoituu käytännössä.</li><br />\n",
    "</ol>"
   ]
  },
  {
   "cell_type": "markdown",
   "metadata": {},
   "source": [
    "Lähdetään liikkeelle tärkeimmästä."
   ]
  },
  {
   "cell_type": "markdown",
   "metadata": {},
   "source": [
    "### Ymmärrä liiketoimintasi"
   ]
  },
  {
   "cell_type": "markdown",
   "metadata": {},
   "source": [
    "Tämä vaihe on keskeinen projektisi onnistumiselle. Jotta dataprojektisi lähtisi liikkeelle ja tulisi käyttöönotetuksi on sen tuotettava selkeää arvo yrityksen liiketoimintaprosessille. Kuten minkä tahansa tuotteen määrittelyssä, on keskeistä tuoda esille se miten jokin yrityksen prosessi tai tuote muuttuu paremmaksi kun siihen yhdistetään jokin datakomponentti. "
   ]
  },
  {
   "cell_type": "markdown",
   "metadata": {},
   "source": [
    "Alla oleva tapauskuvaus on lainaus [Tekoälyaikaraportista](https://www.tekoalyaika.fi/raportit/edellakavijana-tekoalyaikaan/2-kansainvaliset-tekoalyn-asiantuntijat-kohti-tekoalyn-kolmatta-aaltoa/)"
   ]
  },
  {
   "cell_type": "markdown",
   "metadata": {},
   "source": [
    "#### Case K-ryhmä: Tekoäly tietää paremmin kuin sinä, mitä haluat syödä"
   ]
  },
  {
   "cell_type": "markdown",
   "metadata": {},
   "source": [
    "<i>Ruokakauppojen kanta-asiakasjärjestelmät ovat jo pitkään tunteneet asiakkaansa läpikotaisin. Ostosdatan perusteella on helppo tehdä päätelmiä asiakkaan ostoskäyttäytymisestä. Lisäksi tiedämme, että ihmiset tuppaavat ostamaan ruokakaupasta suunnilleen samankaltaisia asioita.\n",
    "\n",
    "K-RYHMÄSSÄ päätettiin muutama vuosi sitten ryhtyä rakentamaan tästä datasta huomattavasti nykyistä älykkäämpää järjestelmää, joka suosittelisi ihmisille reseptejä heidän puolestaan ja siten helpottaisi heidän arkeaan. Järjestelmä otettiin käyttöön vuonna 2017. Yksinkertaisimmillaan se tarkoittaa sitä, että kun hakukenttään kirjoittaa ”maito”, hakukone antaa sisäänkirjautuneelle käyttäjälle automaattisesti ostoshistoriaan perustuvan suosikkimaidon.\n",
    "\n",
    "Pian kuitenkin järjestelmää opetettiin älykkäämmäksi ja hakua laajennettiin antamaan myös reseptisuosituksia. Se päättelee ihmisten hakutuloksista, minkälaisia ruokia ostavat ihmiset käyttävät minkäkinlaisia reseptejä, ja suosittelee näitä automaattisesti uusille käyttäjille.\n",
    "\n",
    "Vuoden alusta järjestelmää on opetettu entistä älykkäämmäksi ja se on laajennettu koskemaan ostolistoja. Käytännössä sisäänkirjautunut käyttäjä voi nyt yhdellä napinpainalluksella saada ensi viikon ostoslistan valmiina itselleen. Harkinnan siitä, mitä ruokakassiin tulisi laittaa, on tehnyt käyttäjän puolesta tekoäly pohjautuen aiempaan ostoslistaan. Se ei siis suosittele ainoastaan aiemmin ostettuja tuotteita, vaan päättelee, mitä käyttäjä haluaisi ensi viikolla mahdollisesti syödä. Mitä enemmän ostoksia ja listoja käyttäjä tekee, sitä paremmin järjestelmä oppii tuntemaan – ja suosittelemaan myös uusia.\n",
    "\n",
    "Tällöin voi käydä lopulta niin, että tekoäly oppii ihmistä paremmaksi mielitekojen asiantuntijaksi ja ihmisten aikaa vapautuu johonkin muuhun kuin sen miettimiseen, mitä seuraavaksi tekisi mieli.\n",
    "\n",
    "Ruokaostosdataa on monista asiakkaista jo hyvin pitkän ajan takaa, joten ruokaostoksia ja reseptejä suositteleva tekoäly lähtee liikkeelle varsin hyvästä lähtökohdasta. Dataa on runsaasti ja se on laadukasta.\n",
    "\n",
    "Sen sijaan vaikeampaa tekoälylle on ollut opettaa henkilökohtaisten mieltymysten ja sesonkivaihtelujen eroa. Eli vaikka käyttäjä kuinka rakastaisi runebergintorttuja, hän tuskin haluaa niistä suosituksia marraskuussa. Haasteena on ollut datan saavutettavuus, laatu ja datamassojen laskentatehojen riittävyys, joissa on vasta viime vuosina saavutettu sellaisia teknisiä harppauksia, että relevanttien suositusten antaminen on mahdollista.\n",
    "\n",
    "Seuraavana tavoitteena on nivoa resepti- ja ostoslistasuosittelu eheäksi kokonaisuudeksi, joka muuttaa ruokakaupassa käymisen kokonaan. Silloin ruokaostosten valinta ja hankkiminen tapahtuvat käytännössä muutamalla napinpainalluksella. Tähän tapaan:\n",
    "\n",
    "Järjestelmä kysyy käyttäjältä, haluaako tämä kokata ensi viikolla makaronilaatikkoa ja kasvispastaa, johon käyttäjä vastaa kyllä. Tämän jälkeen järjestelmä ehdottaa ostoslistalle tuotteita, jotka käyttäjä hyväksyy. Tämän jälkeen järjestelmä kysyy, haluatko ostaa tuotteet, jolloin käyttäjä hyväksyy ja maksaa ostokset – ja saa ne hetken päästä toimitettuna kotiovellensa.\n",
    "\n",
    "Tämä voi olla mahdollista jo vuoden sisällä.\n",
    "\n",
    "K-ryhmän reseptisuositukset on esimerkki digitaalisten palveluiden kehittämisestä. Kyseessä on ihmisten arkeen vahvasti vaikuttava tekijä: käytämme merkittävän osan ajastamme ruokaostosten hankkimiseen ja sen miettimiseen, mitä ruuaksi laittaisimme tai haluaisimme laittaa. Näin ollen tekoäly voi mullistaa käytännön arkeamme minimoimalla tuon ajan ja oppimalla älykkääksi arvioimaan puolestamme sen, mitä olemme syöneet ja mitä meidän kannattaisi seuraavaksi syödä.</i>"
   ]
  },
  {
   "cell_type": "markdown",
   "metadata": {},
   "source": [
    "<b>Keskustele naapurisi kanssa</b> \n",
    "<ol>\n",
    "<li>Minkä ongelman Kesko haluaa ratkaista?</li><br />\n",
    "<li>Arvioikaa, parhaan käsityksenne mukaan, miten kuvattu ratkaisu vaikuttaa Keskon liiketoimintaan?</li><br />\n",
    "</ol>\n",
    "Aikaa kymmenen minuuttia, varautukaa kertomaan vastaukset myös muille"
   ]
  },
  {
   "cell_type": "markdown",
   "metadata": {},
   "source": [
    "Etukäteinen perustelu ei kuitenkaan riitä, vaan on luotava myös jonkinlainen arviointikehikko sille miten tiedät datan tuoneen arvoa liiketoimintaprosessiin.\n",
    "\n",
    "[Susara van den Heever](https://www.ibmbigdatahub.com/blog/top-3-ways-measure-success-your-analytics-investment) kuvaa sitä miten voit mitata analytiikan hyötyjä. Hän nostaa esille kolme tekijää: laatu, nopeus ja robustisuus."
   ]
  },
  {
   "cell_type": "markdown",
   "metadata": {},
   "source": [
    "!['Mittarointi'](http://www.ibmbigdatahub.com/sites/default/files/fig_1_svh.png)"
   ]
  },
  {
   "cell_type": "markdown",
   "metadata": {},
   "source": [
    "<b>Jatka vielä naapurisi kanssa</b>\n",
    "\n",
    "Miten näkisitte että Keskon tapauskuvauksessa voisi yllä mainittu mittakehikko toimia?\n",
    "\n",
    "Miten laatu, nopeus ja robustisuus voisi muuttua datan avulla?\n",
    "\n",
    "Aikaa kymmenen minuuttia, varautukaa kertomaan vastaukset myös muille"
   ]
  },
  {
   "cell_type": "markdown",
   "metadata": {},
   "source": [
    "Vaikka harjoitustyössä ei olekkaan (välttämättä) kyse yrityksen liiketoiminnasta on yhtä olennaista päättää jokin selkeä kysymys johon voit vastata data avulla ja vasta sitten pohtia onko kysymykseen vastaamiseksi saatavilla dataa. "
   ]
  },
  {
   "cell_type": "markdown",
   "metadata": {},
   "source": [
    "#### Harjoitustyön aloittaminen"
   ]
  },
  {
   "cell_type": "markdown",
   "metadata": {},
   "source": [
    "Käykää lataamassa [kanvaasi](https://www.dropbox.com/s/vzzz7nvjvobhcka/opportunity_canvas_editable.pptx?dl=0). \n",
    "\n",
    "<ol>\n",
    "<li>Pohdi itse minkä ongelman haluisit harjoitustyössä ratkaista. Vaikka [harjoitustyökuvauksessa](https://github.com/jodatut/2019/blob/master/harjoitustyo.md) on viitattu AirBnB dataan, olet vapaa miettimään itsellesi mielenkiintoista aihetta. Hahmottele itsellesi mielenkiintoisia ideoita kanvaasiin lokeroon 1. Näitä voi olla useita, joten kirjoita rohkeasti useita</li><br />\n",
    "<li>Kerro ideasi parille ja kommentoikaa ideaanne ristiin. Mikä ongelmista on oikeasti olemassa?</li>    \n",
    "<li>Pohdi itse ketä ratkaisua voisi käyttää. Miten voit rajata tämän joukon kaikista muista?</li><br />\n",
    "<li>Kerro rajaus parillesi ja kommentoikaa ristiin. Arvioikaa miten tarkasti pystysitte rajaamaan käyttäjäryhmät?</li><br />\n",
    "<li>Mitkä ovat nykyisin käytössä olevat ratkaisut? Kuvaa ne lyhyesti.</li><br />\n",
    "</ol>\n",
    "\n",
    "Aikaa käytössä on 20 minuuttia, jonka jälkeen lisää kanvaasisi omaksi kalvokseen. Kun jatkamme eteenpäin, käy lisäämässä oma ideasi ketjuun muiden ideoita lisäämällä oma kanvaasisi [muiden jatkoksi](https://docs.google.com/presentation/d/12UU5E6DXWBuZuFHKZ3uBell8MyyyofyF619D_k1h9Ek/edit?usp=sharing)"
   ]
  },
  {
   "cell_type": "markdown",
   "metadata": {},
   "source": [
    "### Hanki data"
   ]
  },
  {
   "cell_type": "markdown",
   "metadata": {},
   "source": [
    "Kun kysymys on lukittu voidaan pohtia mistä on mahdollista saada dataa kysymykseen vastaamiseksi. Esittelyssä ovat jo olleet Kaggle datat, mutta vaihtoehtoja on myös muita. Tässä muutamia:"
   ]
  },
  {
   "cell_type": "markdown",
   "metadata": {},
   "source": [
    "<ol>\n",
    "<li>Onko käytössäsi organisaation itse luomaa dataa? Jos mahdollista, tulee arvioida mitä data lähteitä organisaatiolla itsellään on käytössä. Vaikka osa aineistosta ei alunperin olisi suunniteltu data analyysiin voi yrityksen omissa strukturoiduissa tai epästrukturoiduissa data lähteissä olla merkittäviä tietovarantoja.</li><br />\n",
    "<li>Käytä API rajapintoja: rajapintojen takaa löytyy mitä moninaisempia tietolähteitä joilla voi olla suoraa hyödynnettävyyttä omassa prosessissasi. Esimerkkinä rajapinnoista löytyy vaikka ProgrammableWeb-alustalta, johon on koottuu erilaisia rajapintoja, tällä hetkellä yli 20 000 eri rajapintaa.</li><br />\n",
    "<li>Etsi avointa dataa: Varsinkin julkiset toimijat ovat lähteneet hyvin aktiivisesti julkaisemaan aineistojaan avoimen rajapinnan kautta. Esimerkkejä on vaikka Euroopan Unionin ODP jonka kautta on saatavilla monenlaista aineistoa.</li><br />\n",
    "</ol>"
   ]
  },
  {
   "cell_type": "markdown",
   "metadata": {},
   "source": [
    "Alla yksinkertainen esimerkki [Europe PMC rajapinnasta](https://europepmc.org/RestfulWebService). Kannattaa myös katsoa [Programmable Web](https://www.programmableweb.com/apis/directory)"
   ]
  },
  {
   "cell_type": "code",
   "execution_count": 18,
   "metadata": {},
   "outputs": [
    {
     "name": "stdout",
     "output_type": "stream",
     "text": [
      "Rajapinnan kautta löytyi yhteensä 1639 julkaisua\n"
     ]
    }
   ],
   "source": [
    "import requests, json\n",
    "search=\"nanorobot%20or%20nanobot%20or%20nanomachine%20or%20nanomotors%20or%20nanoid%20or%20nanite%20or%20nanomite\"\n",
    "r = requests.get('https://www.ebi.ac.uk/europepmc/webservices/rest/search?query='+search+'&format=json&resulttype=core')\n",
    "query_data = json.loads(r.text)\n",
    "records=query_data['hitCount']\n",
    "print(\"Rajapinnan kautta löytyi yhteensä \"+str(records)+\" julkaisua\")\n",
    "if records>1000:\n",
    "    pageSize=1000\n",
    "    pages=int((records/1000)+1)\n",
    "else:\n",
    "    pageSize=records\n",
    "    pages=1"
   ]
  },
  {
   "cell_type": "markdown",
   "metadata": {},
   "source": [
    "### Tarkastele ja käsittele dataa"
   ]
  },
  {
   "cell_type": "markdown",
   "metadata": {},
   "source": [
    "Kun olet valinnut aineston jota käytät ja hankkinut käsiisi datan (tai ainakin osan siitä) Aloita tarkastelemalla mitä datassa on. Jos muistat esimerkissä lainahyväksyntäkoneesta, aineisto oli täynnä virheellisiä arvoja, puuttujia lukuja ja emme voineet olla täysin varmoja että kaikki tapaukset kuvautuvat datassa alkujaankaan. \n",
    "\n",
    "Pohdi tässä kohtaa alkuperäistä kysymystäsi. Mitä nyt käytössä olevat muutujat oikestaan kertovat. Mikä on muuttujien asteikot, ovatko muuttujat vinoja ja vain osa kategorisista luokista on edustettuina. Tee itsellesi kuva siitä mihin muuttujat voivat vastata ja ymmärrä myös se mihin ne eivät voi vastata. \n",
    "\n",
    "Kun olet ymmärtänyt mitä datassa on, voi aloittaa putsaamisen. Onko aineistossasi tekstikenttiä joissa on [kirjoitusvirheitä](https://twitter.com/jnkka/status/1110226356217044992?s=19). Onko jokin muu osa ainestoa käsin syötettyä ja mahdollisesti osittain virheellistä. Mitääkö muuttujia muuntaa. Käy jokainen muuttuja läpi ja vastaa kysymykseen onko muuttujan arvot varmasti siistitty."
   ]
  },
  {
   "cell_type": "markdown",
   "metadata": {},
   "source": [
    "### Rikasta aineistoa"
   ]
  },
  {
   "cell_type": "markdown",
   "metadata": {},
   "source": [
    "Jos olet tehnyt aiemmat osat hyvin, on tämä vaihe helpompi. Pyri tässä vaiheessa löytämään keino yhdistää eri lähteistä tulevat data yhdeksi. Vastaa kysymyksiin mikä datoja yhdistää? Onko muuttujat yhteismitallisia vai tuleeko minun asettaa rajoitteita siihen miten aineistoja voidaan myöhemmin analysoida yhdessä.\n",
    "\n",
    "Muunna data muotoon jossa tunnistat alkuperäiselle kysymykselle arvokkaat pirteet. Kuvaile mistä eri piirteet ovat tulleet (lähde), miten ne muuttuvat sekä mikä on niiden merkitys alkuperäiselle kysymykselle. Tarvittaessa pyri myös muuntaamaan muuttujia muotoon jossa ne palvelevat paremmin kysymyksen asettelua. Onko sinun analyysissä aikatieto relevantti minuutteina, tunteina vai vuosina?\n"
   ]
  },
  {
   "cell_type": "markdown",
   "metadata": {},
   "source": [
    "Hyvän esimerkin siitä miten dataa voi ymmärtää tarjoaa [Analytiikka kanvaasi](https://reader.elsevier.com/reader/sd/pii/S2212827118301549?token=43C2D5A145DF1B6795E073AF56BF0538A3EF6328C4B3EA06D58642DD25CFEA1388892F5F668D0F4D724191B9178F5767)"
   ]
  },
  {
   "cell_type": "code",
   "execution_count": 21,
   "metadata": {},
   "outputs": [
    {
     "data": {
      "text/html": [
       "\n",
       "        <iframe\n",
       "            width=\"1000\"\n",
       "            height=\"1200\"\n",
       "            src=\"analytics_canvas.pdf\"\n",
       "            frameborder=\"0\"\n",
       "            allowfullscreen\n",
       "        ></iframe>\n",
       "        "
      ],
      "text/plain": [
       "<IPython.lib.display.IFrame at 0x7e80d68>"
      ]
     },
     "execution_count": 21,
     "metadata": {},
     "output_type": "execute_result"
    }
   ],
   "source": [
    "IFrame(\"analytics_canvas.pdf\", width=1000, height=1200)"
   ]
  },
  {
   "cell_type": "markdown",
   "metadata": {},
   "source": [
    "### Tee visualisointeja"
   ]
  },
  {
   "cell_type": "markdown",
   "metadata": {},
   "source": [
    "Erityisesti jos sinulla on käsissäsi huomattava määrä muuttujia ja aineisto on kookas, tulee kriittisesti arvioda mitkä kuvat ovat arvoikkaita loppukäyttäjälle. Se että jonkin kuvan pystyy tekemään ei tarkoita sitä että se pitäisi tehdä.\n",
    "\n",
    "Visualisointien tekemiseen on useita hyviä työkaluja kuten Bokeh, Plotly ja Matplotlib, mutta näistä ei ole erityisemmin hyötyä mikäli et pysty selittämään miksi jokin kuvaaja on arvokas asiaa analysoivalle loppukäyttäjälle. Visualisointien tekemisessä on itseasiassa merkittävä valinta tilanne, kun analyytikko päättää esimerkiksi visualisoida kaksi muuttujaa, mutta taustalle voi jäädä kymmeniä muuttujia. Miksi valitsit siis juuri nämä muuttujat?"
   ]
  },
  {
   "cell_type": "markdown",
   "metadata": {},
   "source": [
    "![\"Verkostokuva\"](https://ars.els-cdn.com/content/image/1-s2.0-S0040162516303651-gr2.jpg)"
   ]
  },
  {
   "cell_type": "markdown",
   "metadata": {},
   "source": [
    "### Mallinna"
   ]
  },
  {
   "cell_type": "markdown",
   "metadata": {},
   "source": [
    "Tässä vaiheessa voit huoletta mallintaa dataasi. Mikä olikaan alkuperäinen kysymyksesi ja miten se kääntyy kysymykseksi joka ratkeaa ohjelmallisesti? "
   ]
  },
  {
   "cell_type": "markdown",
   "metadata": {},
   "source": [
    "![\"Scikit-learn map\"](https://scikit-learn.org/stable/_static/ml_map.png)"
   ]
  },
  {
   "cell_type": "markdown",
   "metadata": {},
   "source": [
    "### Iteroi"
   ]
  },
  {
   "cell_type": "markdown",
   "metadata": {},
   "source": [
    "Työt tuskin loppuivat tähän vaan nyt iteroit. Data analyysin mielenkiintoisin osa on se, että yleensä siinä vaiheessa kun olet käynyt prosessin läpi ensimmäisen kerran on sinulla jo hyvä käsitys siitä miten kyseistä aineistoa voisi edellen täydenttä uudella datalla, rikastaa, tai mallintaa toisella tavalla. Parhaimmillaan huomaat että mieleen on tullut täysin uusi kysymys, mutta jos näin on päässyt käymään, arvioi kriittisesti vastaako nyt kerätty aineisto uuteen kysymykseen."
   ]
  }
 ],
 "metadata": {
  "kernelspec": {
   "display_name": "Python 3",
   "language": "python",
   "name": "python3"
  },
  "language_info": {
   "codemirror_mode": {
    "name": "ipython",
    "version": 3
   },
   "file_extension": ".py",
   "mimetype": "text/x-python",
   "name": "python",
   "nbconvert_exporter": "python",
   "pygments_lexer": "ipython3",
   "version": "3.6.4"
  }
 },
 "nbformat": 4,
 "nbformat_minor": 2
}
