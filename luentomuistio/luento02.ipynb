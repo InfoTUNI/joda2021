{
 "cells": [
  {
   "cell_type": "code",
   "execution_count": 1,
   "metadata": {},
   "outputs": [],
   "source": [
    "from IPython.display import Image\n",
    "from IPython.core.display import HTML "
   ]
  },
  {
   "cell_type": "markdown",
   "metadata": {},
   "source": [
    "Kertaus on opintojen äiti ja oppimista tapahtuu koko ajan, joten palataan viime kerran luennolle. Puhuimme siitä, että mikä onkaan datatieteen osaajan profiili. Valitsetko oman osaamisen lokerosi vai onko sinulla vähän kaikkea. Tästä aihepiiristä Slack:n tietovirtaan tuli Harvard Business Review [artikkeli](https://hbr.org/2019/03/why-data-science-teams-need-generalists-not-specialists?utm_campaign=hbr&utm_source=twitter&utm_medium=social)"
   ]
  },
  {
   "cell_type": "markdown",
   "metadata": {},
   "source": [
    "<blockquote><p>\"There are other downsides to functional specialization. It can lead to loss of accountability and passion from the workers. Smith himself criticizes the division of labor, suggesting that it leads to the dulling of talent—that workers become ignorant and insular as their roles are confined to a few repetitive task. While specialization may provide process efficiencies it is less likely to inspire workers.\"</p>\n",
    "\n",
    "<p><footer>--Eric Colson is Chief Algorithms Officer at Stitch Fix. Prior to that he was Vice President of Data Science and Engineering at Netflix.</footer></p>\n",
    "</blockquote>\n",
    "        \n",
    "                "
   ]
  },
  {
   "cell_type": "markdown",
   "metadata": {},
   "source": [
    "# Datatieteen prosessi"
   ]
  },
  {
   "cell_type": "markdown",
   "metadata": {},
   "source": [
    "Philip Guo avaa [ACM:n blogissa](https://cacm.acm.org/blogs/blog-cacm/169199-data-science-workflow-overview-and-challenges/fulltext) data tieteen työprosessia \n",
    "\n",
    "Kuva esittelee työn neljä päävaihetta: tiedon esikäsittely, vuoropuhelu analyysin ja tulosten reflektion välillä ja lopussa tulosten viestiminen vastaanottajalle soveltuvassa muodossa."
   ]
  },
  {
   "cell_type": "markdown",
   "metadata": {},
   "source": [
    "![\"Datatieteen työprosessi\"](https://cacm.acm.org/system/assets/0001/3678/rp-overview.jpg)"
   ]
  },
  {
   "cell_type": "markdown",
   "metadata": {},
   "source": [
    "Viimeisenä huomiona data tieteen työprosessista on ETL ja DAD. Vincent Granville kuvaa [blogissa](https://www.datasciencecentral.com/profiles/blogs/data-scientist-versus-data-engineer) miten ETL (Extract/Load/Transform) on datainsinöörien prosessi ja DAD (Discover/Access/Distill) datatieteen työprosessi. Mikä näissä on erona? \n",
    "\n",
    "Datainsinöörin keskittyessä ohjelmistotekniikkaan, tietokanta suunnitteluun ja siihen, että data kulkee sujuvasti prosessin lävitse tuottaen keskeiset koosteet tietovirrasta, datatieteilijä keskittyy ymmärtämään datan tuottamaa arvoa. Tämä ei täysin poista prosessiymmärryksen tarvetta, mutta nostaa arvonluonnin datalla keskeisimmäksi elementiksi."
   ]
  },
  {
   "cell_type": "markdown",
   "metadata": {},
   "source": [
    "# Liiketoimintarelevanssi"
   ]
  },
  {
   "cell_type": "markdown",
   "metadata": {},
   "source": [
    "### Miten voidaan perustella data analytiikan liiketoimintarelevanssi?"
   ]
  },
  {
   "cell_type": "markdown",
   "metadata": {},
   "source": [
    "On [osoitettu](https://link.springer.com/article/10.1007/s10796-016-9720-4) että data-analytiikan kyvykkyydet (tunnistaminen, hankkiminen, integraatio, toimittaminen sekä analytiikan työkalut) sekä valmiudet (strategia, johdon tuki, resurssointi) parantavat yrityksen suorituskykyä. Kyse on erityisesti siitä, miten analytiikka voi lisätä ymmärrätystä liiketoimintaprosessista eikä niinkään tavoitteesta korvata ihmistä. "
   ]
  },
  {
   "cell_type": "markdown",
   "metadata": {},
   "source": [
    "Tätä ymmärrystä voi auttaa [analytiikan nelikenttä](https://journals.sagepub.com/doi/pdf/10.1177/0256090920130401), joka jaetaan seuraaviin teemoihin\n",
    "- Kuvaileva analytiikka \n",
    "- Diagnosoiva analytiikka\n",
    "- Ennakoiva analytiikka\n",
    "- Ohjaava analytiikka"
   ]
  },
  {
   "cell_type": "markdown",
   "metadata": {},
   "source": [
    "![analytiikkatyypit.png](analytiikkatyypit.png)"
   ]
  },
  {
   "cell_type": "markdown",
   "metadata": {},
   "source": [
    "Kuvaileva analytiikka pyrkii selittämään mitä on tapahtunut. Kyse on eri muuttujien tunnistamisesta ja mallintamisesta ajatuksena tuottaa kuvaa siitä mitä prosessissa tapahtuu.\n",
    "\n",
    "Diagnosoiva analytiikka pyrkii selittämään miksi jotain tapahtui. Työ on eksploratiivista nykyisen ja osittain vielä tuntemattoman data kuvailu ja visualisointia jotta voidaan paremmin ymmärtää miksi jokin tapahtuma on tapahtunut.\n",
    "\n",
    "Ennakoiva analytiikka pyrkii, kuten nimi hyvin toteaa, ennakoivaa tulevaa liiketoimintatilannetta, kuten myyntiä. Kyse on yleisimmin aikasarja-aineiston mallintamisetsa tulevaisuuteen. Hyvä kysymyksen asettelu on, että mitä tulee tapahtumaan?\n",
    "\n",
    "Ohjaava analytiikka pyrkii vastaamaan kysymykseen mitä asialle pitäisi tehdä. Jos taustalla pidetään liiketoiminnan tavoitteet ohjailevalla analytiikalla pyritään tuottamaan ymmärrystä siitä miten nykyistä liiketoiminta prosessia voidaan optiomoida kohti tavoitteita."
   ]
  },
  {
   "cell_type": "markdown",
   "metadata": {},
   "source": [
    "### Esimerkki ennakoivasta analytiikasta"
   ]
  },
  {
   "cell_type": "markdown",
   "metadata": {},
   "source": [
    "Vuoden 2018 AnacondaCon konferenssi yksi mielenkiintoisista esityksistä keskittyi esittelemään miten rakennetaan laaja ennakoivaan huoltoon keskittyvä järjestelmä. Selkeästi kyseessä on ennakoivan analytiikan muoto, eli vastaa kysymykseen mitä todennäköisesti tapahtuu. Esimerkki sisältää myös ohjailevan analytiikan tason, joten on huomattava että yllä esitetty nelikenttä ei ole \"jäykkä\" luokittelu vaan ajattelun työkalu."
   ]
  },
  {
   "cell_type": "code",
   "execution_count": 19,
   "metadata": {},
   "outputs": [
    {
     "data": {
      "text/html": [
       "<iframe width=\"560\" height=\"315\" src=\"https://www.youtube.com/embed/fA0yfemf5n0\" frameborder=\"0\" allow=\"accelerometer; autoplay; encrypted-media; gyroscope; picture-in-picture\" allowfullscreen></iframe>"
      ],
      "text/plain": [
       "<IPython.core.display.HTML object>"
      ]
     },
     "execution_count": 19,
     "metadata": {},
     "output_type": "execute_result"
    }
   ],
   "source": [
    "HTML('<iframe width=\"560\" height=\"315\" src=\"https://www.youtube.com/embed/fA0yfemf5n0\" frameborder=\"0\" allow=\"accelerometer; autoplay; encrypted-media; gyroscope; picture-in-picture\" allowfullscreen></iframe>')"
   ]
  },
  {
   "cell_type": "markdown",
   "metadata": {},
   "source": [
    "Toinen hyvä esimerkki ennakoivasta analytiikasta löytyy sosiaalisen median datan hyödyntämisestä menekin ennakoimiseen. [\"Veganismia koskevien viestimäärien muutokset keskustelufoorumeilla ennakoivat muutoksia kasvismaitotuotteiden myyntivolyymissa kahden viikon viiveellä, ilmenee Helsingin yliopiston Kuluttajatutkimuskeskuksen tutkimuksesta. Neljän tutkijan kirjoittama artikkeli aiheesta on julkaistu tuoreessa Kansantaloudellisessa aikakauskirjassa.\"](https://www.kauppalehti.fi/uutiset/some-keskustelut-ennakoivat-menekin-kasvua/bcdf0ca7-6971-48b0-9e03-6d9b46e76006)"
   ]
  },
  {
   "cell_type": "markdown",
   "metadata": {},
   "source": [
    "### Mikä on analytiikan nykytila yrityksissä"
   ]
  },
  {
   "cell_type": "markdown",
   "metadata": {},
   "source": [
    "Vaikka [raportti Big Data -analytiikan tilasta](https://www.bain.com/contentassets/5672af3b82f84aa2a80ca732fa8ea06c/bain20_brief_the_value_of_big_data.pdf) on jo hieman vanha, antaa se hyvä kuvan yritysten analytiikkakyvyistä. Raportin kuva 1 vetää laajan kyselyn tuloksia yhteen seuraavasti:\n",
    "\n",
    "- Vain 36 % yrityksitä on erikoistunut data-analytiikkatiimi\n",
    "- Vain 19 % yrityksistä omaa selkeän ja luotettavan dataprosessin.\n",
    "- Vain 23 % yrityksistä on selkeä analytiikka strategia.\n",
    "- Vain 38 % yrityksistä käyttää nykyaikaisia analytiikka työkaluja"
   ]
  },
  {
   "cell_type": "markdown",
   "metadata": {},
   "source": [
    "Mitä tämä tarkoittaa käytännössä?"
   ]
  },
  {
   "cell_type": "markdown",
   "metadata": {},
   "source": [
    "Hyvän nykytila kuvauksen eri teemoista tarjoaa myös [Sivarajah et al.](https://www.sciencedirect.com/science/article/pii/S014829631630488X#f0005) He eivät käytä samaa nelikenttä jakoa kuin yllä mutta kuvailevat muuten erittäin mielenkiintoisella tavalla eri arkkityyppien menetelmiä (nykyisiä ja tulevaisuuden mahdollisuuksia). Erittäin suositeltava lukea tai ainakin selailla läpi!"
   ]
  },
  {
   "cell_type": "markdown",
   "metadata": {},
   "source": [
    "# Liiketoimintarelevanssista menetelmiin"
   ]
  },
  {
   "cell_type": "markdown",
   "metadata": {},
   "source": [
    "### Ryömijät ja raapijat (Web crawler & Web scraping)"
   ]
  },
  {
   "cell_type": "markdown",
   "metadata": {},
   "source": [
    "Ryömijä (engl. Web crawler, spider, spiderbot tai crawler) on robotti joka systemaattisesti käy läpi verkko-osoitteita. Tarkoituksena on yleisesti sivujen indeksointi.\n",
    "\n",
    "Lähtökohtaisesti, ryömijä saa käyttäjältä lähtöpisteeksi verkkosivujen osoitteita. Ryömijä käy nämä verkkosivut läpi. Ryömijä kasvattaa omaa hakuavaruuttaan lisäämällä aloituspisteestä löytyvien verkkosivujen sisältämät hyperlinkit omaan hakujonoon, siten kasvattaen omaa hakuavaruuttaan.\n",
    "\n",
    "Listaus eri ryömijöistä on saatavilla [täältä](https://bigdata-madesimple.com/top-50-open-source-web-crawlers-for-data-mining/)"
   ]
  },
  {
   "cell_type": "markdown",
   "metadata": {},
   "source": [
    "![Ryömijän työprosessi, lähde WIkipedia](https://upload.wikimedia.org/wikipedia/commons/d/df/WebCrawlerArchitecture.svg)"
   ]
  },
  {
   "cell_type": "markdown",
   "metadata": {},
   "source": [
    "Ryömijän toimintaa kontrolloidaan rajoittamalla mitä sivuja ryömijä käsittelee (valinta), milloin sen tulee palata sivuille joissa se on jo käynyt (uudelleenkäynti), miten se estää ylikuormituksen käytävillä sivuilla (kohteliaisuus) ja miten ryömijöiden toimintaa koordinoidaan (rinnakkaistaminen)."
   ]
  },
  {
   "cell_type": "markdown",
   "metadata": {},
   "source": [
    "Raapija (engl. Web scraping, web harvesting, tai web data extraction) on työkalu jossa keräämme automatisoidusti tieto verkkosivuilta. Käytännön toteutukset ovat yleensä ryömijän ja raapijan yhdistelimiä joissa ryömijä luo hakuavuuren lisäämällä hyperlinkkejä hakujonoon ja raapija kerää annettujen parametrien avulla tietoa verkkosivuilta.\n",
    "\n",
    "Yleisimmin raapija pyrkii tunnistamaan metaelementtejä verkkosivujen rakenteessa ja hyödyntämään näitä käyttäjää kiinnostavan tiedon tallentamiseen. Muina tekniikoina on esimerkiksi semanttiseen rakenteeseen perustuva haku tai sivun ulkoasuun perustuva tunnistaminen.\n",
    "\n",
    "Hyvä listaus erilaisia raapijoita eri käyttötapauksin voi tutustua [täältä](https://www.scraperapi.com/blog/the-10-best-web-scraping-tools)"
   ]
  },
  {
   "cell_type": "markdown",
   "metadata": {},
   "source": [
    "Kurssilla käsittelemme tarkemmin [Scrapy](http://www.scrapy.org). Scrapy on avoimen lähdekoodin ryömijä ja raapija, jolla on kohtuullisen helppo toteuttaa erilaisia datan keruu prosesseja. Nämä voidaan integroida osaksi Python-työprosessia. Alla oleva video on ensimmäinen osa hyvää ohjevideoiden sarjaa Scrapyn käyttämisestä."
   ]
  },
  {
   "cell_type": "code",
   "execution_count": 24,
   "metadata": {},
   "outputs": [
    {
     "data": {
      "text/html": [
       "<iframe width=\"560\" height=\"315\" src=\"https://www.youtube.com/embed/ve_0h4Y8nuI\" frameborder=\"0\" allow=\"accelerometer; autoplay; encrypted-media; gyroscope; picture-in-picture\" allowfullscreen></iframe>"
      ],
      "text/plain": [
       "<IPython.core.display.HTML object>"
      ]
     },
     "execution_count": 24,
     "metadata": {},
     "output_type": "execute_result"
    }
   ],
   "source": [
    "HTML('<iframe width=\"560\" height=\"315\" src=\"https://www.youtube.com/embed/ve_0h4Y8nuI\" frameborder=\"0\" allow=\"accelerometer; autoplay; encrypted-media; gyroscope; picture-in-picture\" allowfullscreen></iframe>')"
   ]
  },
  {
   "cell_type": "markdown",
   "metadata": {},
   "source": [
    "Kokeillaan tehdä lyhyt esimerkki joka kuvastaa mitä prosessissa saadaan aikaiseksi"
   ]
  },
  {
   "cell_type": "markdown",
   "metadata": {},
   "source": [
    "Tehdään esimerkki Shell tilassa\n",
    "\n",
    "        Scrapy shell \n",
    "        \n",
    "Haetaan verkkosivuna vaikka Verkkokauppa.com puhelinlistauksen ensimmäinen sivu\n",
    "\n",
    "        fetch('https://www.verkkokauppa.com/fi/catalog/22a/Puhelimet/products?list=1&page=1')\n",
    "\n",
    "Tämän jälkeen voimme tarkastella mitä saimme noudettua.\n",
    "\n",
    "        view(response)\n",
    "        \n",
    "Jos haluaisimme ladata kaikki tarjolla olevat puhelimet, niiden nimet sekä tiedot, miten etenisimme? Ainakin olisi saatava selville miten pääsemme käsiksi jokaisen puhelimen tietoihin. Käyttämällä selaimen inspect-toimintoa löysimme metakentän jonka avulla voimme kohdistaa hakumme oikeaan tietoon\n",
    "\n",
    "        response.xpath(\"//a[contains(@class, 'thumbnail-link thumbnail-link--grid-full-width')]//@href\").extract()\n",
    "        \n",
    "Mitä saimme aikaan?\n",
    "\n",
    "Katsotaan vielä Finnkinon kotisivua:\n",
    "\n",
    "        fetch('https://www.finnkino.fi/elokuvat/ohjelmistossa')\n",
    "\n",
    "        response.xpath(\"//h2[contains(@class, 'list-item-desc-title no-top-margin no-bottom-margin event-name')]//@href\").extract()\n",
    "\n",
    "\n",
    "Näyttääkö erilaiselta? Miksi?"
   ]
  },
  {
   "cell_type": "markdown",
   "metadata": {},
   "source": [
    "### Mitä voidaan saada aikaiseksi raapijoita ja ryömijöitä hyödyntämällä?\n"
   ]
  },
  {
   "cell_type": "markdown",
   "metadata": {},
   "source": [
    "Hyrynsalmi ja muut ([2015](https://scielo.conicyt.cl/pdf/jtaer/v10n2/art02.pdf)) keräsivät Google Play -alustalta noin 260 miljoonaa asiakaspalautetta 18 kuukauden ajalta. He osoittivat, että positiiviset palautteet verkkoalustalla korreloivat tilastollisesti merkitsevällä tavalla myynnin kanssa. Arvoiden merkitys näyttää olevan merkitsevämpi kun tarkastelun ajanjakso on pidempi. Arvioilla on myös enemmän merkitystä tilanteessa jossa tuotteen loppuhinta on suurempi. \n",
    "\n",
    "Mitä voimme tehdä tällä tiedolla?"
   ]
  },
  {
   "cell_type": "markdown",
   "metadata": {},
   "source": [
    "### Sitten vielä muutama hyvä huomio ryömijöistä ja raapijoista"
   ]
  },
  {
   "cell_type": "markdown",
   "metadata": {},
   "source": [
    "Onko raapijoiden ja ryömijöiden käyttö sallittua? Tästä kannattaa lukea ainakin [analyysi raapijoiden ja ryömijöiden laillisuudesta](https://benbernardblog.com/web-scraping-and-crawling-are-perfectly-legal-right/). Samat kysymykset ovat ajankohtaisia myös [tutkimuksessa](https://rajapinta.co/2018/12/04/kuka-saa-paattaa-mita-dataa-tutkijalla-on-kaytossaan-ei-ainakaan-amerikkalainen-suuryritys/)."
   ]
  },
  {
   "cell_type": "markdown",
   "metadata": {},
   "source": [
    "# Datan muodot"
   ]
  },
  {
   "cell_type": "markdown",
   "metadata": {},
   "source": [
    "### Datatyypit"
   ]
  },
  {
   "cell_type": "markdown",
   "metadata": {},
   "source": [
    "Data tyypillä tarkoitetaan standardimuotoa jolla ohjelma käsittelee muuttujien sisältämää tietoa. Useimmat järjestelmät tunnistavat ainakin tyypit reaali, numerinen ja boolean. Nämä, tai muut järjestelmän sallimat datatyypit, rajoittavat sitä mitä operaatioita datalle voidaan tehdä."
   ]
  },
  {
   "cell_type": "markdown",
   "metadata": {},
   "source": [
    "![Datatyypit Python 3:ssa](https://upload.wikimedia.org/wikipedia/commons/1/10/Python_3._The_standard_type_hierarchy.png)"
   ]
  },
  {
   "cell_type": "markdown",
   "metadata": {},
   "source": [
    "Esimerkkinä voisi toimia seuraava todella yksinkertainen kokeilu:"
   ]
  },
  {
   "cell_type": "code",
   "execution_count": 2,
   "metadata": {},
   "outputs": [
    {
     "name": "stdout",
     "output_type": "stream",
     "text": [
      "Tulos:10\n"
     ]
    }
   ],
   "source": [
    "userInput=input('Anna numero välillä 0-9: ')\n",
    "try:\n",
    "    sumValue=1+int(userInput)\n",
    "    print('Tulos:' + str(sumValue))\n",
    "except ValueError:\n",
    "    print('Et ilmeisesti antanut numeroa?\\n')"
   ]
  },
  {
   "cell_type": "markdown",
   "metadata": {},
   "source": [
    "[\"If the prompt argument is present, it is written to standard output without a trailing newline. The function then reads a line from input, converts it to a string (stripping a trailing newline), and returns that. When EOF is read, EOFError is raised.\"](https://docs.python.org/3/library/functions.html#input)"
   ]
  },
  {
   "cell_type": "code",
   "execution_count": 15,
   "metadata": {},
   "outputs": [
    {
     "name": "stdout",
     "output_type": "stream",
     "text": [
      "Lisäsin antamaasi lukuun yhden ja siitä tuli 8.\n"
     ]
    }
   ],
   "source": [
    "userInput=input('Anna kokonaisluku välillä 0-9: ')\n",
    "# userInput=int(userInput)\n",
    "while userInput.isdigit()==False:\n",
    "    userInput=input('Ei mennyt ihan nappiin. Anna oikeasti kokonaisluku välillä 0-9: ')\n",
    "try:\n",
    "    sumValue=1+int(userInput)\n",
    "    print('Lisäsin antamaasi lukuun yhden ja siitä tuli ' + str(sumValue)+\".\")\n",
    "except TypeError:\n",
    "    print('Et ilmeisesti antanut numeroa?')"
   ]
  },
  {
   "cell_type": "markdown",
   "metadata": {},
   "source": [
    "### Datan tallennusmuodot"
   ]
  },
  {
   "cell_type": "markdown",
   "metadata": {},
   "source": [
    "Data voidaan käytännössä jakaa kahteen muotoon tekstimuotoiseen ja binäärimuotoiseen tiedostotyyppiin. Tekstimuotoinen, kuten ASCII, tiedosto on ihmisen luettavissa. Binääritiedosto, kuten JPG-kuva, on vain tietokoneen luettavissa."
   ]
  },
  {
   "cell_type": "markdown",
   "metadata": {},
   "source": [
    "# Datan hallitseminen"
   ]
  },
  {
   "cell_type": "markdown",
   "metadata": {},
   "source": [
    "### Data wrangling"
   ]
  },
  {
   "cell_type": "markdown",
   "metadata": {},
   "source": [
    "Tietojen välittäminen (engl. Data wrangling tai Data munging) on prosessi jossa tieto muunnetaan ja mallinnetaan, usein raakamuodosta, muotoon jossa sitä voidaan hyödyntää. Lopputuote riippuu usein käyttötarkoitukseta, eli siitä analytiikka prosessista johon prosessi liittyy. \n",
    "\n",
    "Kuuluisa tietojen välittämiseen keskittynyt projekti on [Stanford/Berkley Wrangler](http://vis.stanford.edu/wrangler/), jonka lopputuotteeseen voi tutustu alla näkyvästä videosta."
   ]
  },
  {
   "cell_type": "code",
   "execution_count": null,
   "metadata": {},
   "outputs": [],
   "source": [
    "HTML('<iframe src=\"https://player.vimeo.com/video/19185801\" width=\"640\" height=\"480\" frameborder=\"0\" allowfullscreen></iframe>')"
   ]
  },
  {
   "cell_type": "markdown",
   "metadata": {},
   "source": [
    "### Pandas"
   ]
  },
  {
   "cell_type": "markdown",
   "metadata": {},
   "source": [
    "Pandas on kuitenkin erinomainen työkalu päästä vauhtiin datan hallitsemisessa. Ohessa kokeillaan päästä vauhtiin analysoimalla Kaggle dataa. Kaggle:stä löytyy useita eri tunnisteita joiden avulla voi löytää mielenkiintoista harjoitteludataa eri tarkoituksiin. Esimerkiksi Pandas kokeilut voi aloittaa tunnisteen \"Data Cleaning\" alta.\n",
    " \n",
    "Tähän tarkoitukseen olen ladannut koneelle [311 Service Request Pitt](https://www.kaggle.com/yoghurtpatil/311-service-requests-pitt) aineiston.\n"
   ]
  },
  {
   "cell_type": "code",
   "execution_count": 3,
   "metadata": {},
   "outputs": [],
   "source": [
    "import pandas as pd"
   ]
  },
  {
   "cell_type": "code",
   "execution_count": 4,
   "metadata": {},
   "outputs": [
    {
     "data": {
      "text/html": [
       "<div>\n",
       "<style scoped>\n",
       "    .dataframe tbody tr th:only-of-type {\n",
       "        vertical-align: middle;\n",
       "    }\n",
       "\n",
       "    .dataframe tbody tr th {\n",
       "        vertical-align: top;\n",
       "    }\n",
       "\n",
       "    .dataframe thead th {\n",
       "        text-align: right;\n",
       "    }\n",
       "</style>\n",
       "<table border=\"1\" class=\"dataframe\">\n",
       "  <thead>\n",
       "    <tr style=\"text-align: right;\">\n",
       "      <th></th>\n",
       "      <th>REQUEST_ID</th>\n",
       "      <th>CREATED_ON</th>\n",
       "      <th>REQUEST_TYPE</th>\n",
       "      <th>REQUEST_ORIGIN</th>\n",
       "      <th>STATUS</th>\n",
       "      <th>DEPARTMENT</th>\n",
       "      <th>NEIGHBORHOOD</th>\n",
       "      <th>COUNCIL_DISTRICT</th>\n",
       "      <th>WARD</th>\n",
       "      <th>TRACT</th>\n",
       "      <th>PUBLIC_WORKS_DIVISION</th>\n",
       "      <th>PLI_DIVISION</th>\n",
       "      <th>POLICE_ZONE</th>\n",
       "      <th>FIRE_ZONE</th>\n",
       "      <th>X</th>\n",
       "      <th>Y</th>\n",
       "      <th>GEO_ACCURACY</th>\n",
       "    </tr>\n",
       "  </thead>\n",
       "  <tbody>\n",
       "    <tr>\n",
       "      <th>0</th>\n",
       "      <td>168714</td>\n",
       "      <td>2017-07-10T14:32:00</td>\n",
       "      <td>Fire Safety System Not Working</td>\n",
       "      <td>Control Panel</td>\n",
       "      <td>1</td>\n",
       "      <td>Permits, Licenses and Inspections</td>\n",
       "      <td>Carrick</td>\n",
       "      <td>4.0</td>\n",
       "      <td>29.0</td>\n",
       "      <td>4.200329e+10</td>\n",
       "      <td>3.0</td>\n",
       "      <td>29.0</td>\n",
       "      <td>3.0</td>\n",
       "      <td>4-15</td>\n",
       "      <td>-79.980279</td>\n",
       "      <td>40.388412</td>\n",
       "      <td>APPROXIMATE</td>\n",
       "    </tr>\n",
       "    <tr>\n",
       "      <th>1</th>\n",
       "      <td>251339</td>\n",
       "      <td>2018-05-22T12:12:00</td>\n",
       "      <td>Illegal Dumping</td>\n",
       "      <td>Website</td>\n",
       "      <td>1</td>\n",
       "      <td>DOMI - Permits</td>\n",
       "      <td>Garfield</td>\n",
       "      <td>9.0</td>\n",
       "      <td>10.0</td>\n",
       "      <td>4.200310e+10</td>\n",
       "      <td>2.0</td>\n",
       "      <td>10.0</td>\n",
       "      <td>5.0</td>\n",
       "      <td>3-4</td>\n",
       "      <td>-79.938336</td>\n",
       "      <td>40.466358</td>\n",
       "      <td>APPROXIMATE</td>\n",
       "    </tr>\n",
       "    <tr>\n",
       "      <th>2</th>\n",
       "      <td>168709</td>\n",
       "      <td>2017-07-10T14:29:00</td>\n",
       "      <td>Potholes</td>\n",
       "      <td>Call Center</td>\n",
       "      <td>1</td>\n",
       "      <td>DPW - Street Maintenance</td>\n",
       "      <td>Polish Hill</td>\n",
       "      <td>7.0</td>\n",
       "      <td>6.0</td>\n",
       "      <td>4.200306e+10</td>\n",
       "      <td>6.0</td>\n",
       "      <td>6.0</td>\n",
       "      <td>2.0</td>\n",
       "      <td>2-6</td>\n",
       "      <td>-79.965908</td>\n",
       "      <td>40.457074</td>\n",
       "      <td>EXACT</td>\n",
       "    </tr>\n",
       "    <tr>\n",
       "      <th>3</th>\n",
       "      <td>168710</td>\n",
       "      <td>2017-07-10T14:30:00</td>\n",
       "      <td>Abandoned Vehicle (parked on street)</td>\n",
       "      <td>Call Center</td>\n",
       "      <td>0</td>\n",
       "      <td>Police - AVU</td>\n",
       "      <td>Marshall-Shadeland</td>\n",
       "      <td>1.0</td>\n",
       "      <td>27.0</td>\n",
       "      <td>4.200327e+10</td>\n",
       "      <td>1.0</td>\n",
       "      <td>27.0</td>\n",
       "      <td>1.0</td>\n",
       "      <td>1-14</td>\n",
       "      <td>-80.033916</td>\n",
       "      <td>40.471775</td>\n",
       "      <td>APPROXIMATE</td>\n",
       "    </tr>\n",
       "    <tr>\n",
       "      <th>4</th>\n",
       "      <td>189977</td>\n",
       "      <td>2017-09-27T17:02:00</td>\n",
       "      <td>Manhole Cover</td>\n",
       "      <td>Call Center</td>\n",
       "      <td>0</td>\n",
       "      <td>DOMI - Permits</td>\n",
       "      <td>Central Business District</td>\n",
       "      <td>6.0</td>\n",
       "      <td>2.0</td>\n",
       "      <td>4.200302e+10</td>\n",
       "      <td>6.0</td>\n",
       "      <td>2.0</td>\n",
       "      <td>2.0</td>\n",
       "      <td>1-3</td>\n",
       "      <td>-80.000264</td>\n",
       "      <td>40.443240</td>\n",
       "      <td>EXACT</td>\n",
       "    </tr>\n",
       "  </tbody>\n",
       "</table>\n",
       "</div>"
      ],
      "text/plain": [
       "   REQUEST_ID           CREATED_ON                          REQUEST_TYPE  \\\n",
       "0      168714  2017-07-10T14:32:00        Fire Safety System Not Working   \n",
       "1      251339  2018-05-22T12:12:00                       Illegal Dumping   \n",
       "2      168709  2017-07-10T14:29:00                              Potholes   \n",
       "3      168710  2017-07-10T14:30:00  Abandoned Vehicle (parked on street)   \n",
       "4      189977  2017-09-27T17:02:00                        Manhole Cover    \n",
       "\n",
       "  REQUEST_ORIGIN  STATUS                         DEPARTMENT  \\\n",
       "0  Control Panel       1  Permits, Licenses and Inspections   \n",
       "1        Website       1                     DOMI - Permits   \n",
       "2    Call Center       1           DPW - Street Maintenance   \n",
       "3    Call Center       0                       Police - AVU   \n",
       "4    Call Center       0                     DOMI - Permits   \n",
       "\n",
       "                NEIGHBORHOOD  COUNCIL_DISTRICT  WARD         TRACT  \\\n",
       "0                    Carrick               4.0  29.0  4.200329e+10   \n",
       "1                   Garfield               9.0  10.0  4.200310e+10   \n",
       "2                Polish Hill               7.0   6.0  4.200306e+10   \n",
       "3         Marshall-Shadeland               1.0  27.0  4.200327e+10   \n",
       "4  Central Business District               6.0   2.0  4.200302e+10   \n",
       "\n",
       "   PUBLIC_WORKS_DIVISION  PLI_DIVISION  POLICE_ZONE FIRE_ZONE          X  \\\n",
       "0                    3.0          29.0          3.0      4-15 -79.980279   \n",
       "1                    2.0          10.0          5.0       3-4 -79.938336   \n",
       "2                    6.0           6.0          2.0       2-6 -79.965908   \n",
       "3                    1.0          27.0          1.0      1-14 -80.033916   \n",
       "4                    6.0           2.0          2.0       1-3 -80.000264   \n",
       "\n",
       "           Y GEO_ACCURACY  \n",
       "0  40.388412  APPROXIMATE  \n",
       "1  40.466358  APPROXIMATE  \n",
       "2  40.457074        EXACT  \n",
       "3  40.471775  APPROXIMATE  \n",
       "4  40.443240        EXACT  "
      ]
     },
     "execution_count": 4,
     "metadata": {},
     "output_type": "execute_result"
    }
   ],
   "source": [
    "df = pd.read_csv('data/ServreqPitt.csv')\n",
    "df.head()"
   ]
  },
  {
   "cell_type": "code",
   "execution_count": 5,
   "metadata": {},
   "outputs": [
    {
     "data": {
      "text/plain": [
       "True"
      ]
     },
     "execution_count": 5,
     "metadata": {},
     "output_type": "execute_result"
    }
   ],
   "source": [
    "# Tarkistetaan vaikka aluksi että kaikki ID ovat yksikäsitteisiä\n",
    "df['REQUEST_ID'].is_unique"
   ]
  },
  {
   "cell_type": "code",
   "execution_count": 6,
   "metadata": {},
   "outputs": [
    {
     "data": {
      "text/html": [
       "<div>\n",
       "<style scoped>\n",
       "    .dataframe tbody tr th:only-of-type {\n",
       "        vertical-align: middle;\n",
       "    }\n",
       "\n",
       "    .dataframe tbody tr th {\n",
       "        vertical-align: top;\n",
       "    }\n",
       "\n",
       "    .dataframe thead th {\n",
       "        text-align: right;\n",
       "    }\n",
       "</style>\n",
       "<table border=\"1\" class=\"dataframe\">\n",
       "  <thead>\n",
       "    <tr style=\"text-align: right;\">\n",
       "      <th></th>\n",
       "      <th>CREATED_ON</th>\n",
       "      <th>REQUEST_TYPE</th>\n",
       "      <th>REQUEST_ORIGIN</th>\n",
       "      <th>STATUS</th>\n",
       "      <th>DEPARTMENT</th>\n",
       "      <th>NEIGHBORHOOD</th>\n",
       "      <th>COUNCIL_DISTRICT</th>\n",
       "      <th>WARD</th>\n",
       "      <th>TRACT</th>\n",
       "      <th>PUBLIC_WORKS_DIVISION</th>\n",
       "      <th>PLI_DIVISION</th>\n",
       "      <th>POLICE_ZONE</th>\n",
       "      <th>FIRE_ZONE</th>\n",
       "      <th>X</th>\n",
       "      <th>Y</th>\n",
       "      <th>GEO_ACCURACY</th>\n",
       "    </tr>\n",
       "    <tr>\n",
       "      <th>REQUEST_ID</th>\n",
       "      <th></th>\n",
       "      <th></th>\n",
       "      <th></th>\n",
       "      <th></th>\n",
       "      <th></th>\n",
       "      <th></th>\n",
       "      <th></th>\n",
       "      <th></th>\n",
       "      <th></th>\n",
       "      <th></th>\n",
       "      <th></th>\n",
       "      <th></th>\n",
       "      <th></th>\n",
       "      <th></th>\n",
       "      <th></th>\n",
       "      <th></th>\n",
       "    </tr>\n",
       "  </thead>\n",
       "  <tbody>\n",
       "    <tr>\n",
       "      <th>168714</th>\n",
       "      <td>2017-07-10T14:32:00</td>\n",
       "      <td>Fire Safety System Not Working</td>\n",
       "      <td>Control Panel</td>\n",
       "      <td>1</td>\n",
       "      <td>Permits, Licenses and Inspections</td>\n",
       "      <td>Carrick</td>\n",
       "      <td>4.0</td>\n",
       "      <td>29.0</td>\n",
       "      <td>4.200329e+10</td>\n",
       "      <td>3.0</td>\n",
       "      <td>29.0</td>\n",
       "      <td>3.0</td>\n",
       "      <td>4-15</td>\n",
       "      <td>-79.980279</td>\n",
       "      <td>40.388412</td>\n",
       "      <td>APPROXIMATE</td>\n",
       "    </tr>\n",
       "    <tr>\n",
       "      <th>251339</th>\n",
       "      <td>2018-05-22T12:12:00</td>\n",
       "      <td>Illegal Dumping</td>\n",
       "      <td>Website</td>\n",
       "      <td>1</td>\n",
       "      <td>DOMI - Permits</td>\n",
       "      <td>Garfield</td>\n",
       "      <td>9.0</td>\n",
       "      <td>10.0</td>\n",
       "      <td>4.200310e+10</td>\n",
       "      <td>2.0</td>\n",
       "      <td>10.0</td>\n",
       "      <td>5.0</td>\n",
       "      <td>3-4</td>\n",
       "      <td>-79.938336</td>\n",
       "      <td>40.466358</td>\n",
       "      <td>APPROXIMATE</td>\n",
       "    </tr>\n",
       "    <tr>\n",
       "      <th>168709</th>\n",
       "      <td>2017-07-10T14:29:00</td>\n",
       "      <td>Potholes</td>\n",
       "      <td>Call Center</td>\n",
       "      <td>1</td>\n",
       "      <td>DPW - Street Maintenance</td>\n",
       "      <td>Polish Hill</td>\n",
       "      <td>7.0</td>\n",
       "      <td>6.0</td>\n",
       "      <td>4.200306e+10</td>\n",
       "      <td>6.0</td>\n",
       "      <td>6.0</td>\n",
       "      <td>2.0</td>\n",
       "      <td>2-6</td>\n",
       "      <td>-79.965908</td>\n",
       "      <td>40.457074</td>\n",
       "      <td>EXACT</td>\n",
       "    </tr>\n",
       "    <tr>\n",
       "      <th>168710</th>\n",
       "      <td>2017-07-10T14:30:00</td>\n",
       "      <td>Abandoned Vehicle (parked on street)</td>\n",
       "      <td>Call Center</td>\n",
       "      <td>0</td>\n",
       "      <td>Police - AVU</td>\n",
       "      <td>Marshall-Shadeland</td>\n",
       "      <td>1.0</td>\n",
       "      <td>27.0</td>\n",
       "      <td>4.200327e+10</td>\n",
       "      <td>1.0</td>\n",
       "      <td>27.0</td>\n",
       "      <td>1.0</td>\n",
       "      <td>1-14</td>\n",
       "      <td>-80.033916</td>\n",
       "      <td>40.471775</td>\n",
       "      <td>APPROXIMATE</td>\n",
       "    </tr>\n",
       "    <tr>\n",
       "      <th>189977</th>\n",
       "      <td>2017-09-27T17:02:00</td>\n",
       "      <td>Manhole Cover</td>\n",
       "      <td>Call Center</td>\n",
       "      <td>0</td>\n",
       "      <td>DOMI - Permits</td>\n",
       "      <td>Central Business District</td>\n",
       "      <td>6.0</td>\n",
       "      <td>2.0</td>\n",
       "      <td>4.200302e+10</td>\n",
       "      <td>6.0</td>\n",
       "      <td>2.0</td>\n",
       "      <td>2.0</td>\n",
       "      <td>1-3</td>\n",
       "      <td>-80.000264</td>\n",
       "      <td>40.443240</td>\n",
       "      <td>EXACT</td>\n",
       "    </tr>\n",
       "  </tbody>\n",
       "</table>\n",
       "</div>"
      ],
      "text/plain": [
       "                     CREATED_ON                          REQUEST_TYPE  \\\n",
       "REQUEST_ID                                                              \n",
       "168714      2017-07-10T14:32:00        Fire Safety System Not Working   \n",
       "251339      2018-05-22T12:12:00                       Illegal Dumping   \n",
       "168709      2017-07-10T14:29:00                              Potholes   \n",
       "168710      2017-07-10T14:30:00  Abandoned Vehicle (parked on street)   \n",
       "189977      2017-09-27T17:02:00                        Manhole Cover    \n",
       "\n",
       "           REQUEST_ORIGIN  STATUS                         DEPARTMENT  \\\n",
       "REQUEST_ID                                                             \n",
       "168714      Control Panel       1  Permits, Licenses and Inspections   \n",
       "251339            Website       1                     DOMI - Permits   \n",
       "168709        Call Center       1           DPW - Street Maintenance   \n",
       "168710        Call Center       0                       Police - AVU   \n",
       "189977        Call Center       0                     DOMI - Permits   \n",
       "\n",
       "                         NEIGHBORHOOD  COUNCIL_DISTRICT  WARD         TRACT  \\\n",
       "REQUEST_ID                                                                    \n",
       "168714                        Carrick               4.0  29.0  4.200329e+10   \n",
       "251339                       Garfield               9.0  10.0  4.200310e+10   \n",
       "168709                    Polish Hill               7.0   6.0  4.200306e+10   \n",
       "168710             Marshall-Shadeland               1.0  27.0  4.200327e+10   \n",
       "189977      Central Business District               6.0   2.0  4.200302e+10   \n",
       "\n",
       "            PUBLIC_WORKS_DIVISION  PLI_DIVISION  POLICE_ZONE FIRE_ZONE  \\\n",
       "REQUEST_ID                                                               \n",
       "168714                        3.0          29.0          3.0      4-15   \n",
       "251339                        2.0          10.0          5.0       3-4   \n",
       "168709                        6.0           6.0          2.0       2-6   \n",
       "168710                        1.0          27.0          1.0      1-14   \n",
       "189977                        6.0           2.0          2.0       1-3   \n",
       "\n",
       "                    X          Y GEO_ACCURACY  \n",
       "REQUEST_ID                                     \n",
       "168714     -79.980279  40.388412  APPROXIMATE  \n",
       "251339     -79.938336  40.466358  APPROXIMATE  \n",
       "168709     -79.965908  40.457074        EXACT  \n",
       "168710     -80.033916  40.471775  APPROXIMATE  \n",
       "189977     -80.000264  40.443240        EXACT  "
      ]
     },
     "execution_count": 6,
     "metadata": {},
     "output_type": "execute_result"
    }
   ],
   "source": [
    "# Voidaan varmasti olettaa että REQUEST_ID on hyödyllinen ja prosessin kannalta tunnettu indeksi syventyä tietoon.\n",
    "# Voisimme vaihtaa sen indeksiksi, varsinkin nyt kun tiedämme sen olevan uniikki.\n",
    "df.set_index('REQUEST_ID', inplace=True)\n",
    "df.head()"
   ]
  },
  {
   "cell_type": "code",
   "execution_count": null,
   "metadata": {},
   "outputs": [],
   "source": []
  },
  {
   "cell_type": "code",
   "execution_count": 7,
   "metadata": {},
   "outputs": [
    {
     "data": {
      "text/plain": [
       "CREATED_ON                object\n",
       "REQUEST_TYPE              object\n",
       "REQUEST_ORIGIN            object\n",
       "STATUS                     int64\n",
       "DEPARTMENT                object\n",
       "NEIGHBORHOOD              object\n",
       "COUNCIL_DISTRICT         float64\n",
       "WARD                     float64\n",
       "TRACT                    float64\n",
       "PUBLIC_WORKS_DIVISION    float64\n",
       "PLI_DIVISION             float64\n",
       "POLICE_ZONE              float64\n",
       "FIRE_ZONE                 object\n",
       "X                        float64\n",
       "Y                        float64\n",
       "GEO_ACCURACY              object\n",
       "dtype: object"
      ]
     },
     "execution_count": 7,
     "metadata": {},
     "output_type": "execute_result"
    }
   ],
   "source": [
    "# Mitkä datatyypit vaikuttavat virheellisiltä?\n",
    "df.dtypes"
   ]
  },
  {
   "cell_type": "markdown",
   "metadata": {},
   "source": [
    "![Pandan datatyypit](https://pbpython.com/images/pandas_dtypes.png)"
   ]
  },
  {
   "cell_type": "code",
   "execution_count": 8,
   "metadata": {},
   "outputs": [
    {
     "data": {
      "text/html": [
       "<div>\n",
       "<style scoped>\n",
       "    .dataframe tbody tr th:only-of-type {\n",
       "        vertical-align: middle;\n",
       "    }\n",
       "\n",
       "    .dataframe tbody tr th {\n",
       "        vertical-align: top;\n",
       "    }\n",
       "\n",
       "    .dataframe thead th {\n",
       "        text-align: right;\n",
       "    }\n",
       "</style>\n",
       "<table border=\"1\" class=\"dataframe\">\n",
       "  <thead>\n",
       "    <tr style=\"text-align: right;\">\n",
       "      <th></th>\n",
       "      <th>FIRE_ZONE</th>\n",
       "      <th>POLICE_ZONE</th>\n",
       "    </tr>\n",
       "    <tr>\n",
       "      <th>REQUEST_ID</th>\n",
       "      <th></th>\n",
       "      <th></th>\n",
       "    </tr>\n",
       "  </thead>\n",
       "  <tbody>\n",
       "    <tr>\n",
       "      <th>168714</th>\n",
       "      <td>4-15</td>\n",
       "      <td>3.0</td>\n",
       "    </tr>\n",
       "    <tr>\n",
       "      <th>251339</th>\n",
       "      <td>3-4</td>\n",
       "      <td>5.0</td>\n",
       "    </tr>\n",
       "    <tr>\n",
       "      <th>168709</th>\n",
       "      <td>2-6</td>\n",
       "      <td>2.0</td>\n",
       "    </tr>\n",
       "    <tr>\n",
       "      <th>168710</th>\n",
       "      <td>1-14</td>\n",
       "      <td>1.0</td>\n",
       "    </tr>\n",
       "    <tr>\n",
       "      <th>189977</th>\n",
       "      <td>1-3</td>\n",
       "      <td>2.0</td>\n",
       "    </tr>\n",
       "  </tbody>\n",
       "</table>\n",
       "</div>"
      ],
      "text/plain": [
       "           FIRE_ZONE  POLICE_ZONE\n",
       "REQUEST_ID                       \n",
       "168714          4-15          3.0\n",
       "251339           3-4          5.0\n",
       "168709           2-6          2.0\n",
       "168710          1-14          1.0\n",
       "189977           1-3          2.0"
      ]
     },
     "execution_count": 8,
     "metadata": {},
     "output_type": "execute_result"
    }
   ],
   "source": [
    "# Katsotaan tarkemmin kahta saraketta\n",
    "df[['FIRE_ZONE', 'POLICE_ZONE']].head()"
   ]
  },
  {
   "cell_type": "code",
   "execution_count": 10,
   "metadata": {},
   "outputs": [],
   "source": [
    "# Mitä huomattiin edellisestä?\n",
    "df['FIRE_ZONE'] = df['FIRE_ZONE'].astype('category')\n",
    "df['POLICE_ZONE'] = df['POLICE_ZONE'].astype('category')\n",
    "# Päivitysten myötä rikkoontunut versio koodista\n",
    "# df[['FIRE_ZONE', 'POLICE_ZONE']]=df[['FIRE_ZONE', 'POLICE_ZONE']].astype('category')"
   ]
  },
  {
   "cell_type": "code",
   "execution_count": 11,
   "metadata": {},
   "outputs": [
    {
     "data": {
      "text/plain": [
       "CREATED_ON                 object\n",
       "REQUEST_TYPE               object\n",
       "REQUEST_ORIGIN             object\n",
       "STATUS                      int64\n",
       "DEPARTMENT                 object\n",
       "NEIGHBORHOOD               object\n",
       "COUNCIL_DISTRICT          float64\n",
       "WARD                      float64\n",
       "TRACT                     float64\n",
       "PUBLIC_WORKS_DIVISION     float64\n",
       "PLI_DIVISION              float64\n",
       "POLICE_ZONE              category\n",
       "FIRE_ZONE                category\n",
       "X                         float64\n",
       "Y                         float64\n",
       "GEO_ACCURACY               object\n",
       "dtype: object"
      ]
     },
     "execution_count": 11,
     "metadata": {},
     "output_type": "execute_result"
    }
   ],
   "source": [
    "# Mitä saatin aikaan?\n",
    "df.dtypes"
   ]
  },
  {
   "cell_type": "code",
   "execution_count": 12,
   "metadata": {},
   "outputs": [
    {
     "data": {
      "text/html": [
       "<div>\n",
       "<style scoped>\n",
       "    .dataframe tbody tr th:only-of-type {\n",
       "        vertical-align: middle;\n",
       "    }\n",
       "\n",
       "    .dataframe tbody tr th {\n",
       "        vertical-align: top;\n",
       "    }\n",
       "\n",
       "    .dataframe thead th {\n",
       "        text-align: right;\n",
       "    }\n",
       "</style>\n",
       "<table border=\"1\" class=\"dataframe\">\n",
       "  <thead>\n",
       "    <tr style=\"text-align: right;\">\n",
       "      <th></th>\n",
       "      <th>FIRE_ZONE</th>\n",
       "      <th>POLICE_ZONE</th>\n",
       "    </tr>\n",
       "    <tr>\n",
       "      <th>REQUEST_ID</th>\n",
       "      <th></th>\n",
       "      <th></th>\n",
       "    </tr>\n",
       "  </thead>\n",
       "  <tbody>\n",
       "    <tr>\n",
       "      <th>168714</th>\n",
       "      <td>4-15</td>\n",
       "      <td>3.0</td>\n",
       "    </tr>\n",
       "    <tr>\n",
       "      <th>251339</th>\n",
       "      <td>3-4</td>\n",
       "      <td>5.0</td>\n",
       "    </tr>\n",
       "    <tr>\n",
       "      <th>168709</th>\n",
       "      <td>2-6</td>\n",
       "      <td>2.0</td>\n",
       "    </tr>\n",
       "    <tr>\n",
       "      <th>168710</th>\n",
       "      <td>1-14</td>\n",
       "      <td>1.0</td>\n",
       "    </tr>\n",
       "    <tr>\n",
       "      <th>189977</th>\n",
       "      <td>1-3</td>\n",
       "      <td>2.0</td>\n",
       "    </tr>\n",
       "  </tbody>\n",
       "</table>\n",
       "</div>"
      ],
      "text/plain": [
       "           FIRE_ZONE POLICE_ZONE\n",
       "REQUEST_ID                      \n",
       "168714          4-15         3.0\n",
       "251339           3-4         5.0\n",
       "168709           2-6         2.0\n",
       "168710          1-14         1.0\n",
       "189977           1-3         2.0"
      ]
     },
     "execution_count": 12,
     "metadata": {},
     "output_type": "execute_result"
    }
   ],
   "source": [
    "# Olisiko voinut tehdä siistimmin?\n",
    "dfZone=df[['FIRE_ZONE', 'POLICE_ZONE']]\n",
    "dfZone.head()"
   ]
  },
  {
   "cell_type": "code",
   "execution_count": 13,
   "metadata": {},
   "outputs": [
    {
     "data": {
      "text/plain": [
       "FIRE_ZONE  POLICE_ZONE\n",
       "1-1        1.0              304\n",
       "1-10       1.0             2138\n",
       "1-11       1.0             1490\n",
       "1-12       1.0             1465\n",
       "1-13       1.0              222\n",
       "1-14       1.0             7600\n",
       "1-15       1.0             4661\n",
       "1-16       6.0             7429\n",
       "1-17       3.0               91\n",
       "           6.0             5638\n",
       "1-18       6.0             2448\n",
       "1-19       6.0              795\n",
       "1-2        1.0             2422\n",
       "1-20       1.0             1508\n",
       "1-21       1.0             2426\n",
       "1-22       1.0              480\n",
       "1-23       1.0             1012\n",
       "1-24       1.0             1115\n",
       "1-27       6.0              527\n",
       "1-3        2.0             2980\n",
       "1-4        2.0             3045\n",
       "1-5        1.0             2552\n",
       "1-6        1.0             2388\n",
       "1-7        1.0             1270\n",
       "1-8        1.0             2807\n",
       "1-9        1.0             1748\n",
       "2-1        2.0             3775\n",
       "           4.0              215\n",
       "2-10       2.0              289\n",
       "           4.0             1856\n",
       "                          ...  \n",
       "3-8        4.0               62\n",
       "           5.0             3945\n",
       "3-9        5.0             4146\n",
       "4-1        3.0             3152\n",
       "           6.0                1\n",
       "4-12       3.0             4134\n",
       "4-13       3.0              205\n",
       "4-15       3.0             1818\n",
       "4-16       3.0             1690\n",
       "4-18       3.0              163\n",
       "4-19       4.0                7\n",
       "4-2        3.0             1505\n",
       "4-20       4.0             4262\n",
       "4-21       3.0             1513\n",
       "4-22       3.0             3761\n",
       "4-23       3.0             6452\n",
       "4-24       3.0            10528\n",
       "4-25       3.0             2492\n",
       "           6.0             2806\n",
       "4-26       6.0             8883\n",
       "4-27       3.0             4495\n",
       "4-28       3.0              107\n",
       "           6.0             6900\n",
       "4-3        3.0             1595\n",
       "4-5        3.0             3602\n",
       "4-6        3.0             3703\n",
       "4-7        3.0             3525\n",
       "4-8        3.0             3040\n",
       "4-9        6.0             2187\n",
       "Mt Oliver  3.0               12\n",
       "Length: 122, dtype: int64"
      ]
     },
     "execution_count": 13,
     "metadata": {},
     "output_type": "execute_result"
    }
   ],
   "source": [
    "# Ovatko alueet poliiseilla ja palokunnalla samanlaisia?\n",
    "dfZone.groupby(['FIRE_ZONE', 'POLICE_ZONE']).size()"
   ]
  },
  {
   "cell_type": "code",
   "execution_count": 14,
   "metadata": {},
   "outputs": [],
   "source": [
    "# Muutetaan aikatieto oikean muotoon\n",
    "df['TimeStamp'] =  pd.to_datetime(df['CREATED_ON'], format='%Y%m%dT%H:%M:%S',  errors='raise')"
   ]
  },
  {
   "cell_type": "code",
   "execution_count": 15,
   "metadata": {},
   "outputs": [
    {
     "data": {
      "text/plain": [
       "REQUEST_ID\n",
       "168714   2017-07-10 14:32:00\n",
       "251339   2018-05-22 12:12:00\n",
       "168709   2017-07-10 14:29:00\n",
       "168710   2017-07-10 14:30:00\n",
       "189977   2017-09-27 17:02:00\n",
       "Name: TimeStamp, dtype: datetime64[ns]"
      ]
     },
     "execution_count": 15,
     "metadata": {},
     "output_type": "execute_result"
    }
   ],
   "source": [
    "df['TimeStamp'].head()"
   ]
  },
  {
   "cell_type": "code",
   "execution_count": 16,
   "metadata": {},
   "outputs": [
    {
     "data": {
      "text/plain": [
       "(287288, 17)"
      ]
     },
     "execution_count": 16,
     "metadata": {},
     "output_type": "execute_result"
    }
   ],
   "source": [
    "# Tarkistetaan tietorakenteen koko\n",
    "df.shape"
   ]
  },
  {
   "cell_type": "code",
   "execution_count": 17,
   "metadata": {},
   "outputs": [],
   "source": [
    "# Poistetaan rivit joissa on NaN arvoja\n",
    "df = df.dropna(axis=0)"
   ]
  },
  {
   "cell_type": "code",
   "execution_count": 18,
   "metadata": {},
   "outputs": [
    {
     "data": {
      "text/plain": [
       "(263126, 17)"
      ]
     },
     "execution_count": 18,
     "metadata": {},
     "output_type": "execute_result"
    }
   ],
   "source": [
    "# Mitä on käynyt tietorakenteelle?\n",
    "df.shape"
   ]
  },
  {
   "cell_type": "code",
   "execution_count": 19,
   "metadata": {},
   "outputs": [
    {
     "data": {
      "text/html": [
       "<div>\n",
       "<style scoped>\n",
       "    .dataframe tbody tr th:only-of-type {\n",
       "        vertical-align: middle;\n",
       "    }\n",
       "\n",
       "    .dataframe tbody tr th {\n",
       "        vertical-align: top;\n",
       "    }\n",
       "\n",
       "    .dataframe thead th {\n",
       "        text-align: right;\n",
       "    }\n",
       "</style>\n",
       "<table border=\"1\" class=\"dataframe\">\n",
       "  <thead>\n",
       "    <tr style=\"text-align: right;\">\n",
       "      <th></th>\n",
       "      <th>CREATED_ON</th>\n",
       "      <th>REQUEST_TYPE</th>\n",
       "      <th>STATUS</th>\n",
       "      <th>DEPARTMENT</th>\n",
       "      <th>NEIGHBORHOOD</th>\n",
       "      <th>COUNCIL_DISTRICT</th>\n",
       "      <th>WARD</th>\n",
       "      <th>TRACT</th>\n",
       "      <th>PUBLIC_WORKS_DIVISION</th>\n",
       "      <th>PLI_DIVISION</th>\n",
       "      <th>POLICE_ZONE</th>\n",
       "      <th>FIRE_ZONE</th>\n",
       "      <th>X</th>\n",
       "      <th>Y</th>\n",
       "      <th>GEO_ACCURACY</th>\n",
       "      <th>TimeStamp</th>\n",
       "    </tr>\n",
       "    <tr>\n",
       "      <th>REQUEST_ORIGIN</th>\n",
       "      <th></th>\n",
       "      <th></th>\n",
       "      <th></th>\n",
       "      <th></th>\n",
       "      <th></th>\n",
       "      <th></th>\n",
       "      <th></th>\n",
       "      <th></th>\n",
       "      <th></th>\n",
       "      <th></th>\n",
       "      <th></th>\n",
       "      <th></th>\n",
       "      <th></th>\n",
       "      <th></th>\n",
       "      <th></th>\n",
       "      <th></th>\n",
       "    </tr>\n",
       "  </thead>\n",
       "  <tbody>\n",
       "    <tr>\n",
       "      <th>Call Center</th>\n",
       "      <td>168486</td>\n",
       "      <td>168486</td>\n",
       "      <td>168486</td>\n",
       "      <td>168486</td>\n",
       "      <td>168486</td>\n",
       "      <td>168486</td>\n",
       "      <td>168486</td>\n",
       "      <td>168486</td>\n",
       "      <td>168486</td>\n",
       "      <td>168486</td>\n",
       "      <td>168486</td>\n",
       "      <td>168486</td>\n",
       "      <td>168486</td>\n",
       "      <td>168486</td>\n",
       "      <td>168486</td>\n",
       "      <td>168486</td>\n",
       "    </tr>\n",
       "    <tr>\n",
       "      <th>Control Panel</th>\n",
       "      <td>28590</td>\n",
       "      <td>28590</td>\n",
       "      <td>28590</td>\n",
       "      <td>28590</td>\n",
       "      <td>28590</td>\n",
       "      <td>28590</td>\n",
       "      <td>28590</td>\n",
       "      <td>28590</td>\n",
       "      <td>28590</td>\n",
       "      <td>28590</td>\n",
       "      <td>28590</td>\n",
       "      <td>28590</td>\n",
       "      <td>28590</td>\n",
       "      <td>28590</td>\n",
       "      <td>28590</td>\n",
       "      <td>28590</td>\n",
       "    </tr>\n",
       "    <tr>\n",
       "      <th>Email</th>\n",
       "      <td>77</td>\n",
       "      <td>77</td>\n",
       "      <td>77</td>\n",
       "      <td>77</td>\n",
       "      <td>77</td>\n",
       "      <td>77</td>\n",
       "      <td>77</td>\n",
       "      <td>77</td>\n",
       "      <td>77</td>\n",
       "      <td>77</td>\n",
       "      <td>77</td>\n",
       "      <td>77</td>\n",
       "      <td>77</td>\n",
       "      <td>77</td>\n",
       "      <td>77</td>\n",
       "      <td>77</td>\n",
       "    </tr>\n",
       "    <tr>\n",
       "      <th>QAlert Mobile iOS</th>\n",
       "      <td>5</td>\n",
       "      <td>5</td>\n",
       "      <td>5</td>\n",
       "      <td>5</td>\n",
       "      <td>5</td>\n",
       "      <td>5</td>\n",
       "      <td>5</td>\n",
       "      <td>5</td>\n",
       "      <td>5</td>\n",
       "      <td>5</td>\n",
       "      <td>5</td>\n",
       "      <td>5</td>\n",
       "      <td>5</td>\n",
       "      <td>5</td>\n",
       "      <td>5</td>\n",
       "      <td>5</td>\n",
       "    </tr>\n",
       "    <tr>\n",
       "      <th>Report2Gov Android</th>\n",
       "      <td>3143</td>\n",
       "      <td>3143</td>\n",
       "      <td>3143</td>\n",
       "      <td>3143</td>\n",
       "      <td>3143</td>\n",
       "      <td>3143</td>\n",
       "      <td>3143</td>\n",
       "      <td>3143</td>\n",
       "      <td>3143</td>\n",
       "      <td>3143</td>\n",
       "      <td>3143</td>\n",
       "      <td>3143</td>\n",
       "      <td>3143</td>\n",
       "      <td>3143</td>\n",
       "      <td>3143</td>\n",
       "      <td>3143</td>\n",
       "    </tr>\n",
       "    <tr>\n",
       "      <th>Report2Gov Website</th>\n",
       "      <td>52</td>\n",
       "      <td>52</td>\n",
       "      <td>52</td>\n",
       "      <td>52</td>\n",
       "      <td>52</td>\n",
       "      <td>52</td>\n",
       "      <td>52</td>\n",
       "      <td>52</td>\n",
       "      <td>52</td>\n",
       "      <td>52</td>\n",
       "      <td>52</td>\n",
       "      <td>52</td>\n",
       "      <td>52</td>\n",
       "      <td>52</td>\n",
       "      <td>52</td>\n",
       "      <td>52</td>\n",
       "    </tr>\n",
       "    <tr>\n",
       "      <th>Report2Gov iOS</th>\n",
       "      <td>8110</td>\n",
       "      <td>8110</td>\n",
       "      <td>8110</td>\n",
       "      <td>8110</td>\n",
       "      <td>8110</td>\n",
       "      <td>8110</td>\n",
       "      <td>8110</td>\n",
       "      <td>8110</td>\n",
       "      <td>8110</td>\n",
       "      <td>8110</td>\n",
       "      <td>8110</td>\n",
       "      <td>8110</td>\n",
       "      <td>8110</td>\n",
       "      <td>8110</td>\n",
       "      <td>8110</td>\n",
       "      <td>8110</td>\n",
       "    </tr>\n",
       "    <tr>\n",
       "      <th>Text Message</th>\n",
       "      <td>1009</td>\n",
       "      <td>1009</td>\n",
       "      <td>1009</td>\n",
       "      <td>1009</td>\n",
       "      <td>1009</td>\n",
       "      <td>1009</td>\n",
       "      <td>1009</td>\n",
       "      <td>1009</td>\n",
       "      <td>1009</td>\n",
       "      <td>1009</td>\n",
       "      <td>1009</td>\n",
       "      <td>1009</td>\n",
       "      <td>1009</td>\n",
       "      <td>1009</td>\n",
       "      <td>1009</td>\n",
       "      <td>1009</td>\n",
       "    </tr>\n",
       "    <tr>\n",
       "      <th>Twitter</th>\n",
       "      <td>5690</td>\n",
       "      <td>5690</td>\n",
       "      <td>5690</td>\n",
       "      <td>5690</td>\n",
       "      <td>5690</td>\n",
       "      <td>5690</td>\n",
       "      <td>5690</td>\n",
       "      <td>5690</td>\n",
       "      <td>5690</td>\n",
       "      <td>5690</td>\n",
       "      <td>5690</td>\n",
       "      <td>5690</td>\n",
       "      <td>5690</td>\n",
       "      <td>5690</td>\n",
       "      <td>5690</td>\n",
       "      <td>5690</td>\n",
       "    </tr>\n",
       "    <tr>\n",
       "      <th>Website</th>\n",
       "      <td>47964</td>\n",
       "      <td>47964</td>\n",
       "      <td>47964</td>\n",
       "      <td>47964</td>\n",
       "      <td>47964</td>\n",
       "      <td>47964</td>\n",
       "      <td>47964</td>\n",
       "      <td>47964</td>\n",
       "      <td>47964</td>\n",
       "      <td>47964</td>\n",
       "      <td>47964</td>\n",
       "      <td>47964</td>\n",
       "      <td>47964</td>\n",
       "      <td>47964</td>\n",
       "      <td>47964</td>\n",
       "      <td>47964</td>\n",
       "    </tr>\n",
       "  </tbody>\n",
       "</table>\n",
       "</div>"
      ],
      "text/plain": [
       "                    CREATED_ON  REQUEST_TYPE  STATUS  DEPARTMENT  \\\n",
       "REQUEST_ORIGIN                                                     \n",
       "Call Center             168486        168486  168486      168486   \n",
       "Control Panel            28590         28590   28590       28590   \n",
       "Email                       77            77      77          77   \n",
       "QAlert Mobile iOS            5             5       5           5   \n",
       "Report2Gov Android        3143          3143    3143        3143   \n",
       "Report2Gov Website          52            52      52          52   \n",
       "Report2Gov iOS            8110          8110    8110        8110   \n",
       "Text Message              1009          1009    1009        1009   \n",
       "Twitter                   5690          5690    5690        5690   \n",
       "Website                  47964         47964   47964       47964   \n",
       "\n",
       "                    NEIGHBORHOOD  COUNCIL_DISTRICT    WARD   TRACT  \\\n",
       "REQUEST_ORIGIN                                                       \n",
       "Call Center               168486            168486  168486  168486   \n",
       "Control Panel              28590             28590   28590   28590   \n",
       "Email                         77                77      77      77   \n",
       "QAlert Mobile iOS              5                 5       5       5   \n",
       "Report2Gov Android          3143              3143    3143    3143   \n",
       "Report2Gov Website            52                52      52      52   \n",
       "Report2Gov iOS              8110              8110    8110    8110   \n",
       "Text Message                1009              1009    1009    1009   \n",
       "Twitter                     5690              5690    5690    5690   \n",
       "Website                    47964             47964   47964   47964   \n",
       "\n",
       "                    PUBLIC_WORKS_DIVISION  PLI_DIVISION  POLICE_ZONE  \\\n",
       "REQUEST_ORIGIN                                                         \n",
       "Call Center                        168486        168486       168486   \n",
       "Control Panel                       28590         28590        28590   \n",
       "Email                                  77            77           77   \n",
       "QAlert Mobile iOS                       5             5            5   \n",
       "Report2Gov Android                   3143          3143         3143   \n",
       "Report2Gov Website                     52            52           52   \n",
       "Report2Gov iOS                       8110          8110         8110   \n",
       "Text Message                         1009          1009         1009   \n",
       "Twitter                              5690          5690         5690   \n",
       "Website                             47964         47964        47964   \n",
       "\n",
       "                    FIRE_ZONE       X       Y  GEO_ACCURACY  TimeStamp  \n",
       "REQUEST_ORIGIN                                                          \n",
       "Call Center            168486  168486  168486        168486     168486  \n",
       "Control Panel           28590   28590   28590         28590      28590  \n",
       "Email                      77      77      77            77         77  \n",
       "QAlert Mobile iOS           5       5       5             5          5  \n",
       "Report2Gov Android       3143    3143    3143          3143       3143  \n",
       "Report2Gov Website         52      52      52            52         52  \n",
       "Report2Gov iOS           8110    8110    8110          8110       8110  \n",
       "Text Message             1009    1009    1009          1009       1009  \n",
       "Twitter                  5690    5690    5690          5690       5690  \n",
       "Website                 47964   47964   47964         47964      47964  "
      ]
     },
     "execution_count": 19,
     "metadata": {},
     "output_type": "execute_result"
    }
   ],
   "source": [
    "df.groupby('REQUEST_ORIGIN').count()"
   ]
  },
  {
   "cell_type": "markdown",
   "metadata": {},
   "source": [
    "Lopuksi, kunnollinen [\"Cheat sheet\"](https://s3.amazonaws.com/assets.datacamp.com/blog_assets/Python_Pandas_Cheat_Sheet_2.pdf) on aina hyödyllinen."
   ]
  }
 ],
 "metadata": {
  "kernelspec": {
   "display_name": "Python 3",
   "language": "python",
   "name": "python3"
  },
  "language_info": {
   "codemirror_mode": {
    "name": "ipython",
    "version": 3
   },
   "file_extension": ".py",
   "mimetype": "text/x-python",
   "name": "python",
   "nbconvert_exporter": "python",
   "pygments_lexer": "ipython3",
   "version": "3.6.4"
  }
 },
 "nbformat": 4,
 "nbformat_minor": 2
}
